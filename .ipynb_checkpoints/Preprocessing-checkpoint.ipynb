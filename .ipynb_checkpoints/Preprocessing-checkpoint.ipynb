{
 "cells": [
  {
   "cell_type": "code",
   "execution_count": 123,
   "metadata": {},
   "outputs": [],
   "source": [
    "import pandas as pd\n",
    "import numpy as np\n",
    "import matplotlib.pyplot as plt\n",
    "import os\n",
    "import nltk\n",
    "data_dir = \"./data/\"\n",
    "text_dir = \"./data/text/\"\n"
   ]
  },
  {
   "cell_type": "code",
   "execution_count": 105,
   "metadata": {},
   "outputs": [],
   "source": [
    "train_data = pd.read_csv(data_dir+'train_split_Depression_AVEC2017.csv')\n",
    "dev_data = pd.read_csv(data_dir+'dev_split_Depression_AVEC2017.csv')\n",
    "test_data = pd.read_csv(data_dir+'full_test_split.csv')"
   ]
  },
  {
   "cell_type": "code",
   "execution_count": 113,
   "metadata": {},
   "outputs": [],
   "source": [
    "test_data.rename(columns = {\"PHQ_Binary\":\"PHQ8_Binary\"},inplace=True)"
   ]
  },
  {
   "cell_type": "code",
   "execution_count": 133,
   "metadata": {},
   "outputs": [
    {
     "name": "stdout",
     "output_type": "stream",
     "text": [
      "Index(['Participant_ID', 'PHQ8_Binary', 'PHQ8_Score', 'Gender',\n",
      "       'PHQ8_NoInterest', 'PHQ8_Depressed', 'PHQ8_Sleep', 'PHQ8_Tired',\n",
      "       'PHQ8_Appetite', 'PHQ8_Failure', 'PHQ8_Concentrating', 'PHQ8_Moving'],\n",
      "      dtype='object')\n",
      "Index(['Participant_ID', 'PHQ8_Binary', 'PHQ8_Score', 'Gender',\n",
      "       'PHQ8_NoInterest', 'PHQ8_Depressed', 'PHQ8_Sleep', 'PHQ8_Tired',\n",
      "       'PHQ8_Appetite', 'PHQ8_Failure', 'PHQ8_Concentrating', 'PHQ8_Moving'],\n",
      "      dtype='object')\n",
      "Index(['Participant_ID', 'PHQ8_Binary', 'PHQ_Score', 'Gender'], dtype='object')\n"
     ]
    },
    {
     "data": {
      "text/html": [
       "<div>\n",
       "<style scoped>\n",
       "    .dataframe tbody tr th:only-of-type {\n",
       "        vertical-align: middle;\n",
       "    }\n",
       "\n",
       "    .dataframe tbody tr th {\n",
       "        vertical-align: top;\n",
       "    }\n",
       "\n",
       "    .dataframe thead th {\n",
       "        text-align: right;\n",
       "    }\n",
       "</style>\n",
       "<table border=\"1\" class=\"dataframe\">\n",
       "  <thead>\n",
       "    <tr style=\"text-align: right;\">\n",
       "      <th></th>\n",
       "      <th>Participant_ID</th>\n",
       "      <th>PHQ8_Binary</th>\n",
       "    </tr>\n",
       "  </thead>\n",
       "  <tbody>\n",
       "    <tr>\n",
       "      <th>0</th>\n",
       "      <td>303</td>\n",
       "      <td>0</td>\n",
       "    </tr>\n",
       "    <tr>\n",
       "      <th>1</th>\n",
       "      <td>304</td>\n",
       "      <td>0</td>\n",
       "    </tr>\n",
       "    <tr>\n",
       "      <th>2</th>\n",
       "      <td>305</td>\n",
       "      <td>0</td>\n",
       "    </tr>\n",
       "    <tr>\n",
       "      <th>3</th>\n",
       "      <td>310</td>\n",
       "      <td>0</td>\n",
       "    </tr>\n",
       "    <tr>\n",
       "      <th>4</th>\n",
       "      <td>312</td>\n",
       "      <td>0</td>\n",
       "    </tr>\n",
       "  </tbody>\n",
       "</table>\n",
       "</div>"
      ],
      "text/plain": [
       "   Participant_ID  PHQ8_Binary\n",
       "0             303            0\n",
       "1             304            0\n",
       "2             305            0\n",
       "3             310            0\n",
       "4             312            0"
      ]
     },
     "execution_count": 133,
     "metadata": {},
     "output_type": "execute_result"
    }
   ],
   "source": [
    "print(train_data.columns,end='\\n')\n",
    "print(dev_data.columns,end='\\n')\n",
    "print(test_data.columns,end='\\n')\n",
    "labels = pd.concat([train_data[['Participant_ID','PHQ8_Binary']],dev_data[['Participant_ID','PHQ8_Binary']],\\\n",
    "           test_data[['Participant_ID','PHQ8_Binary']]],axis=0)\n",
    "labels.sort_values(by=\"Participant_ID\")\n",
    "labels.head()"
   ]
  },
  {
   "cell_type": "code",
   "execution_count": 126,
   "metadata": {},
   "outputs": [
    {
     "data": {
      "image/png": "[encoded data removed]",
      "text/plain": [
       "<Figure size 432x288 with 1 Axes>"
      ]
     },
     "metadata": {
      "needs_background": "light"
     },
     "output_type": "display_data"
    }
   ],
   "source": [
    "plt.hist(labels['PHQ8_Binary'])\n",
    "plt.show()"
   ]
  },
  {
   "cell_type": "code",
   "execution_count": 14,
   "metadata": {},
   "outputs": [],
   "source": [
    "text_files = [file for file in os.listdir(text_dir) if file.endswith('.csv')]\n",
    "text_files[:5]\n",
    "assert len(text_files)==189"
   ]
  },
  {
   "cell_type": "code",
   "execution_count": 72,
   "metadata": {},
   "outputs": [
    {
     "data": {
      "text/plain": [
       "['300_TRANSCRIPT.csv',\n",
       " '301_TRANSCRIPT.csv',\n",
       " '302_TRANSCRIPT.csv',\n",
       " '303_TRANSCRIPT.csv',\n",
       " '304_TRANSCRIPT.csv']"
      ]
     },
     "execution_count": 72,
     "metadata": {},
     "output_type": "execute_result"
    }
   ],
   "source": [
    "text_files.sort()\n",
    "PREFIX = [file[:3] for file in text_files]\n",
    "text_files[:5]"
   ]
  },
  {
   "cell_type": "code",
   "execution_count": 28,
   "metadata": {},
   "outputs": [
    {
     "data": {
      "text/html": [
       "<div>\n",
       "<style scoped>\n",
       "    .dataframe tbody tr th:only-of-type {\n",
       "        vertical-align: middle;\n",
       "    }\n",
       "\n",
       "    .dataframe tbody tr th {\n",
       "        vertical-align: top;\n",
       "    }\n",
       "\n",
       "    .dataframe thead th {\n",
       "        text-align: right;\n",
       "    }\n",
       "</style>\n",
       "<table border=\"1\" class=\"dataframe\">\n",
       "  <thead>\n",
       "    <tr style=\"text-align: right;\">\n",
       "      <th></th>\n",
       "      <th>start_time</th>\n",
       "      <th>stop_time</th>\n",
       "      <th>speaker</th>\n",
       "      <th>value</th>\n",
       "    </tr>\n",
       "  </thead>\n",
       "  <tbody>\n",
       "    <tr>\n",
       "      <th>0</th>\n",
       "      <td>36.588</td>\n",
       "      <td>39.668</td>\n",
       "      <td>Ellie</td>\n",
       "      <td>hi i'm ellie thanks for coming in today</td>\n",
       "    </tr>\n",
       "    <tr>\n",
       "      <th>1</th>\n",
       "      <td>39.888</td>\n",
       "      <td>43.378</td>\n",
       "      <td>Ellie</td>\n",
       "      <td>i was created to talk to people in a safe and ...</td>\n",
       "    </tr>\n",
       "    <tr>\n",
       "      <th>2</th>\n",
       "      <td>43.728</td>\n",
       "      <td>48.498</td>\n",
       "      <td>Ellie</td>\n",
       "      <td>think of me as a friend i don't judge i can't ...</td>\n",
       "    </tr>\n",
       "    <tr>\n",
       "      <th>3</th>\n",
       "      <td>49.188</td>\n",
       "      <td>52.388</td>\n",
       "      <td>Ellie</td>\n",
       "      <td>i'm here to learn about people and would love ...</td>\n",
       "    </tr>\n",
       "    <tr>\n",
       "      <th>4</th>\n",
       "      <td>52.658</td>\n",
       "      <td>58.958</td>\n",
       "      <td>Ellie</td>\n",
       "      <td>i'll ask a few questions to get us started and...</td>\n",
       "    </tr>\n",
       "  </tbody>\n",
       "</table>\n",
       "</div>"
      ],
      "text/plain": [
       "   start_time  stop_time speaker  \\\n",
       "0      36.588     39.668   Ellie   \n",
       "1      39.888     43.378   Ellie   \n",
       "2      43.728     48.498   Ellie   \n",
       "3      49.188     52.388   Ellie   \n",
       "4      52.658     58.958   Ellie   \n",
       "\n",
       "                                               value  \n",
       "0            hi i'm ellie thanks for coming in today  \n",
       "1  i was created to talk to people in a safe and ...  \n",
       "2  think of me as a friend i don't judge i can't ...  \n",
       "3  i'm here to learn about people and would love ...  \n",
       "4  i'll ask a few questions to get us started and...  "
      ]
     },
     "execution_count": 28,
     "metadata": {},
     "output_type": "execute_result"
    }
   ],
   "source": [
    "text_300 = pd.read_csv(text_dir+text_files[0],sep='\\t')\n",
    "text_300.head()"
   ]
  },
  {
   "cell_type": "code",
   "execution_count": 29,
   "metadata": {},
   "outputs": [
    {
     "data": {
      "text/plain": [
       "\"good. atlanta georgia. um my parents are from here um. i love it. i like the weather. i like the opportunities. um. yes. um. it took a minute. somewhat easy. congestion. that's it. um i took up business and administration. uh yeah i am. here and there i'm on a break right now but i plan on going back in the uh next semester. uh probably to open up my own business. no. um no specific reason i just. don't travel a lot. i'm pretty local. once a year. can you be a little bit more specific. no answer. i like reading books i enjoy i enjoy cooking. um exercising is great. i'm i'm i'm pretty good at it. um. yeah. um probably about. two weeks ago. uh frustrated. um. i don't like bias. um i don't like um when someone says they're gonna do something and they don't. uh somewhat. friendship. i like to play sports i enjoy uh going out with friends and family. playing games. grandparents. parents. um yeah i mean they've always given me great advice. they've always kept it real. real close. i would say going to college right after high school. well i would've been done by now you know. i would have been probably out in the field. in the career field. uh taking a job off the street. i'm sure i could've yes. i'm not sure. maybe when i graduated from high school. well uh i um i got my diploma. my my diploma that i finished school and i met all the requirements . high school. and i was approved to go. do whatever i wanted to do. living with who. um it's alright it could be better. not. no. uh it's pretty easy. uh yes. repeat that. irritated um. lazy. no. no. no. no. um the other day. weather was great sun was out. different. less. less um. interested. uh shut down. uh about two weeks ago. uh yeah a friend of mine was annoying me and i just. cut them off. [laughter] it's alright. friendship. chocolate. tall. thin. thank you. bye bye\""
      ]
     },
     "execution_count": 29,
     "metadata": {},
     "output_type": "execute_result"
    }
   ],
   "source": [
    "\". \".join(text_300[text_300['speaker']==\"Participant\"].value.tolist())"
   ]
  },
  {
   "cell_type": "code",
   "execution_count": 64,
   "metadata": {},
   "outputs": [],
   "source": [
    "with open(text_dir+'docs.txt','w') as f:\n",
    "    for file in text_files:\n",
    "        text = pd.read_csv(text_dir+file,sep='\\t')\n",
    "        if np.any(text.value.isnull()):\n",
    "            text.value.fillna(\"\",inplace=True)\n",
    "        try:\n",
    "            text = \". \".join(text[text['speaker']==\"Participant\"].value.tolist())\n",
    "            f.write(text)\n",
    "            f.write('\\n')\n",
    "        except:\n",
    "            print(file)"
   ]
  },
  {
   "cell_type": "code",
   "execution_count": 71,
   "metadata": {},
   "outputs": [],
   "source": [
    "with open(text_dir+\"docs.txt\",'r') as f:\n",
    "    docs = \"\".join(f.readlines()).split('\\n')\n",
    "    docs = docs[:-1]\n",
    "assert len(docs)==189"
   ]
  },
  {
   "cell_type": "code",
   "execution_count": 134,
   "metadata": {},
   "outputs": [],
   "source": [
    "with open(text_dir+\"labels.txt\",'w') as f:\n",
    "    for label in labels.PHQ8_Binary.tolist():\n",
    "        f.write(str(label))\n",
    "        f.write('\\n')\n",
    "        \n",
    "with open(text_dir+\"labels.txt\",'r') as f:\n",
    "    labels = \"\".join(f.readlines()).split('\\n')\n",
    "    labels = labels[:-1]\n",
    "assert len(labels)==189"
   ]
  },
  {
   "cell_type": "code",
   "execution_count": null,
   "metadata": {},
   "outputs": [],
   "source": []
  }
 ],
 "metadata": {
  "kernelspec": {
   "display_name": "Python 3",
   "language": "python",
   "name": "python3"
  },
  "language_info": {
   "codemirror_mode": {
    "name": "ipython",
    "version": 3
   },
   "file_extension": ".py",
   "mimetype": "text/x-python",
   "name": "python",
   "nbconvert_exporter": "python",
   "pygments_lexer": "ipython3",
   "version": "3.7.8"
  }
 },
 "nbformat": 4,
 "nbformat_minor": 4
}
