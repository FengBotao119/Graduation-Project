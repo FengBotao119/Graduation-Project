{
 "cells": [
  {
   "cell_type": "code",
   "execution_count": 1,
   "metadata": {},
   "outputs": [],
   "source": [
    "import pandas as pd\n",
    "import numpy as np\n",
    "import matplotlib.pyplot as plt\n",
    "import os\n",
    "import nltk\n",
    "from string import punctuation\n",
    "import re\n",
    "from global_values import *\n"
   ]
  },
  {
   "cell_type": "markdown",
   "metadata": {},
   "source": [
    "# 文本数据处理"
   ]
  },
  {
   "cell_type": "code",
   "execution_count": 7,
   "metadata": {},
   "outputs": [],
   "source": [
    "train_data = pd.read_csv(data_dir+'train_split_Depression_AVEC2017.csv')\n",
    "dev_data = pd.read_csv(data_dir+'dev_split_Depression_AVEC2017.csv')\n",
    "test_data = pd.read_csv(data_dir+'full_test_split.csv')"
   ]
  },
  {
   "cell_type": "code",
   "execution_count": 8,
   "metadata": {},
   "outputs": [],
   "source": [
    "test_data.rename(columns = {\"PHQ_Binary\":\"PHQ8_Binary\"},inplace=True)"
   ]
  },
  {
   "cell_type": "code",
   "execution_count": 9,
   "metadata": {},
   "outputs": [
    {
     "name": "stdout",
     "output_type": "stream",
     "text": [
      "Index(['Participant_ID', 'PHQ8_Binary', 'PHQ8_Score', 'Gender',\n",
      "       'PHQ8_NoInterest', 'PHQ8_Depressed', 'PHQ8_Sleep', 'PHQ8_Tired',\n",
      "       'PHQ8_Appetite', 'PHQ8_Failure', 'PHQ8_Concentrating', 'PHQ8_Moving'],\n",
      "      dtype='object')\n",
      "Index(['Participant_ID', 'PHQ8_Binary', 'PHQ8_Score', 'Gender',\n",
      "       'PHQ8_NoInterest', 'PHQ8_Depressed', 'PHQ8_Sleep', 'PHQ8_Tired',\n",
      "       'PHQ8_Appetite', 'PHQ8_Failure', 'PHQ8_Concentrating', 'PHQ8_Moving'],\n",
      "      dtype='object')\n",
      "Index(['Participant_ID', 'PHQ8_Binary', 'PHQ_Score', 'Gender'], dtype='object')\n"
     ]
    },
    {
     "data": {
      "text/html": [
       "<div>\n",
       "<style scoped>\n",
       "    .dataframe tbody tr th:only-of-type {\n",
       "        vertical-align: middle;\n",
       "    }\n",
       "\n",
       "    .dataframe tbody tr th {\n",
       "        vertical-align: top;\n",
       "    }\n",
       "\n",
       "    .dataframe thead th {\n",
       "        text-align: right;\n",
       "    }\n",
       "</style>\n",
       "<table border=\"1\" class=\"dataframe\">\n",
       "  <thead>\n",
       "    <tr style=\"text-align: right;\">\n",
       "      <th></th>\n",
       "      <th>Participant_ID</th>\n",
       "      <th>PHQ8_Binary</th>\n",
       "    </tr>\n",
       "  </thead>\n",
       "  <tbody>\n",
       "    <tr>\n",
       "      <th>0</th>\n",
       "      <td>303</td>\n",
       "      <td>0</td>\n",
       "    </tr>\n",
       "    <tr>\n",
       "      <th>1</th>\n",
       "      <td>304</td>\n",
       "      <td>0</td>\n",
       "    </tr>\n",
       "    <tr>\n",
       "      <th>2</th>\n",
       "      <td>305</td>\n",
       "      <td>0</td>\n",
       "    </tr>\n",
       "    <tr>\n",
       "      <th>3</th>\n",
       "      <td>310</td>\n",
       "      <td>0</td>\n",
       "    </tr>\n",
       "    <tr>\n",
       "      <th>4</th>\n",
       "      <td>312</td>\n",
       "      <td>0</td>\n",
       "    </tr>\n",
       "  </tbody>\n",
       "</table>\n",
       "</div>"
      ],
      "text/plain": [
       "   Participant_ID  PHQ8_Binary\n",
       "0             303            0\n",
       "1             304            0\n",
       "2             305            0\n",
       "3             310            0\n",
       "4             312            0"
      ]
     },
     "execution_count": 9,
     "metadata": {},
     "output_type": "execute_result"
    }
   ],
   "source": [
    "print(train_data.columns,end='\\n')\n",
    "print(dev_data.columns,end='\\n')\n",
    "print(test_data.columns,end='\\n')\n",
    "labels = pd.concat([train_data[['Participant_ID','PHQ8_Binary']],dev_data[['Participant_ID','PHQ8_Binary']],\\\n",
    "           test_data[['Participant_ID','PHQ8_Binary']]],axis=0)\n",
    "labels.sort_values(by=\"Participant_ID\")\n",
    "labels.head()"
   ]
  },
  {
   "cell_type": "code",
   "execution_count": 10,
   "metadata": {},
   "outputs": [
    {
     "data": {
      "image/png": "[encoded data removed]",
      "text/plain": [
       "<Figure size 432x288 with 1 Axes>"
      ]
     },
     "metadata": {
      "needs_background": "light"
     },
     "output_type": "display_data"
    }
   ],
   "source": [
    "plt.hist(labels['PHQ8_Binary'])\n",
    "plt.show()"
   ]
  },
  {
   "cell_type": "code",
   "execution_count": 11,
   "metadata": {},
   "outputs": [],
   "source": [
    "text_files = [file for file in os.listdir(text_dir) if file.endswith('.csv')]\n",
    "text_files[:5]\n",
    "assert len(text_files)==189"
   ]
  },
  {
   "cell_type": "code",
   "execution_count": 12,
   "metadata": {},
   "outputs": [
    {
     "data": {
      "text/plain": [
       "['300_TRANSCRIPT.csv',\n",
       " '301_TRANSCRIPT.csv',\n",
       " '302_TRANSCRIPT.csv',\n",
       " '303_TRANSCRIPT.csv',\n",
       " '304_TRANSCRIPT.csv']"
      ]
     },
     "execution_count": 12,
     "metadata": {},
     "output_type": "execute_result"
    }
   ],
   "source": [
    "text_files.sort()\n",
    "PREFIX = [file[:3] for file in text_files]\n",
    "text_files[:5]"
   ]
  },
  {
   "cell_type": "code",
   "execution_count": 13,
   "metadata": {},
   "outputs": [
    {
     "data": {
      "text/html": [
       "<div>\n",
       "<style scoped>\n",
       "    .dataframe tbody tr th:only-of-type {\n",
       "        vertical-align: middle;\n",
       "    }\n",
       "\n",
       "    .dataframe tbody tr th {\n",
       "        vertical-align: top;\n",
       "    }\n",
       "\n",
       "    .dataframe thead th {\n",
       "        text-align: right;\n",
       "    }\n",
       "</style>\n",
       "<table border=\"1\" class=\"dataframe\">\n",
       "  <thead>\n",
       "    <tr style=\"text-align: right;\">\n",
       "      <th></th>\n",
       "      <th>start_time</th>\n",
       "      <th>stop_time</th>\n",
       "      <th>speaker</th>\n",
       "      <th>value</th>\n",
       "    </tr>\n",
       "  </thead>\n",
       "  <tbody>\n",
       "    <tr>\n",
       "      <th>0</th>\n",
       "      <td>36.588</td>\n",
       "      <td>39.668</td>\n",
       "      <td>Ellie</td>\n",
       "      <td>hi i'm ellie thanks for coming in today</td>\n",
       "    </tr>\n",
       "    <tr>\n",
       "      <th>1</th>\n",
       "      <td>39.888</td>\n",
       "      <td>43.378</td>\n",
       "      <td>Ellie</td>\n",
       "      <td>i was created to talk to people in a safe and ...</td>\n",
       "    </tr>\n",
       "    <tr>\n",
       "      <th>2</th>\n",
       "      <td>43.728</td>\n",
       "      <td>48.498</td>\n",
       "      <td>Ellie</td>\n",
       "      <td>think of me as a friend i don't judge i can't ...</td>\n",
       "    </tr>\n",
       "    <tr>\n",
       "      <th>3</th>\n",
       "      <td>49.188</td>\n",
       "      <td>52.388</td>\n",
       "      <td>Ellie</td>\n",
       "      <td>i'm here to learn about people and would love ...</td>\n",
       "    </tr>\n",
       "    <tr>\n",
       "      <th>4</th>\n",
       "      <td>52.658</td>\n",
       "      <td>58.958</td>\n",
       "      <td>Ellie</td>\n",
       "      <td>i'll ask a few questions to get us started and...</td>\n",
       "    </tr>\n",
       "  </tbody>\n",
       "</table>\n",
       "</div>"
      ],
      "text/plain": [
       "   start_time  stop_time speaker  \\\n",
       "0      36.588     39.668   Ellie   \n",
       "1      39.888     43.378   Ellie   \n",
       "2      43.728     48.498   Ellie   \n",
       "3      49.188     52.388   Ellie   \n",
       "4      52.658     58.958   Ellie   \n",
       "\n",
       "                                               value  \n",
       "0            hi i'm ellie thanks for coming in today  \n",
       "1  i was created to talk to people in a safe and ...  \n",
       "2  think of me as a friend i don't judge i can't ...  \n",
       "3  i'm here to learn about people and would love ...  \n",
       "4  i'll ask a few questions to get us started and...  "
      ]
     },
     "execution_count": 13,
     "metadata": {},
     "output_type": "execute_result"
    }
   ],
   "source": [
    "text_300 = pd.read_csv(text_dir+text_files[0],sep='\\t')\n",
    "text_300.head()"
   ]
  },
  {
   "cell_type": "code",
   "execution_count": 14,
   "metadata": {},
   "outputs": [
    {
     "data": {
      "text/plain": [
       "\"good. atlanta georgia. um my parents are from here um. i love it. i like the weather. i like the opportunities. um. yes. um. it took a minute. somewhat easy. congestion. that's it. um i took up business and administration. uh yeah i am. here and there i'm on a break right now but i plan on going back in the uh next semester. uh probably to open up my own business. no. um no specific reason i just. don't travel a lot. i'm pretty local. once a year. can you be a little bit more specific. no answer. i like reading books i enjoy i enjoy cooking. um exercising is great. i'm i'm i'm pretty good at it. um. yeah. um probably about. two weeks ago. uh frustrated. um. i don't like bias. um i don't like um when someone says they're gonna do something and they don't. uh somewhat. friendship. i like to play sports i enjoy uh going out with friends and family. playing games. grandparents. parents. um yeah i mean they've always given me great advice. they've always kept it real. real close. i would say going to college right after high school. well i would've been done by now you know. i would have been probably out in the field. in the career field. uh taking a job off the street. i'm sure i could've yes. i'm not sure. maybe when i graduated from high school. well uh i um i got my diploma. my my diploma that i finished school and i met all the requirements . high school. and i was approved to go. do whatever i wanted to do. living with who. um it's alright it could be better. not. no. uh it's pretty easy. uh yes. repeat that. irritated um. lazy. no. no. no. no. um the other day. weather was great sun was out. different. less. less um. interested. uh shut down. uh about two weeks ago. uh yeah a friend of mine was annoying me and i just. cut them off. [laughter] it's alright. friendship. chocolate. tall. thin. thank you. bye bye\""
      ]
     },
     "execution_count": 14,
     "metadata": {},
     "output_type": "execute_result"
    }
   ],
   "source": [
    "\". \".join(text_300[text_300['speaker']==\"Participant\"].value.tolist())"
   ]
  },
  {
   "cell_type": "code",
   "execution_count": 15,
   "metadata": {},
   "outputs": [],
   "source": [
    "with open(text_dir+'docs.txt','w') as f:\n",
    "    for file in text_files:\n",
    "        text = pd.read_csv(text_dir+file,sep='\\t')\n",
    "        if np.any(text.value.isnull()):\n",
    "            text.value.fillna(\"\",inplace=True)\n",
    "        try:\n",
    "            text = \". \".join(text[text['speaker']==\"Participant\"].value.tolist())\n",
    "            f.write(text)\n",
    "            f.write('\\n')\n",
    "        except:\n",
    "            print(file)"
   ]
  },
  {
   "cell_type": "code",
   "execution_count": 4,
   "metadata": {},
   "outputs": [],
   "source": [
    "with open(TEXT_DIR+\"docs.txt\",'r') as f:\n",
    "    docs = \"\".join(f.readlines()).split('\\n')\n",
    "    docs = docs[:-1]\n",
    "assert len(docs)==189"
   ]
  },
  {
   "cell_type": "code",
   "execution_count": 17,
   "metadata": {},
   "outputs": [],
   "source": [
    "with open(text_dir+\"labels.txt\",'w') as f:\n",
    "    for label in labels.PHQ8_Binary.tolist():\n",
    "        f.write(str(label))\n",
    "        f.write('\\n')\n"
   ]
  },
  {
   "cell_type": "code",
   "execution_count": 5,
   "metadata": {},
   "outputs": [],
   "source": [
    "with open(TEXT_DIR+\"labels.txt\",'r') as f:\n",
    "    labels = \"\".join(f.readlines()).split('\\n')\n",
    "    labels = labels[:-1]\n",
    "assert len(labels)==189"
   ]
  },
  {
   "cell_type": "code",
   "execution_count": 86,
   "metadata": {},
   "outputs": [],
   "source": [
    "def Process_text(text):\n",
    "    \"\"\"预处理文本:\n",
    "    - 分词\n",
    "    - 去特殊符号\n",
    "    \"\"\"\n",
    "    pattern = r\"[!\\\"#$%&'()*+,-./:;<=>?@\\[\\]\\\\^_`{|}~]\"\n",
    "    text = re.sub(pattern,\"\",text)\n",
    "    return text"
   ]
  },
  {
   "cell_type": "code",
   "execution_count": 87,
   "metadata": {},
   "outputs": [],
   "source": [
    "with open(TEXT_DIR+'process_docs.txt','w') as f:\n",
    "    for doc in docs:\n",
    "        f.write(Process_text(doc))\n",
    "        f.write('\\n')"
   ]
  },
  {
   "cell_type": "code",
   "execution_count": 10,
   "metadata": {},
   "outputs": [],
   "source": [
    "import torch\n",
    "from torch import optim\n",
    "import torch.nn as nn\n",
    "import torch.nn.functional as F\n",
    "from core.model.EmbeddingAverage import EmbedAvg\n",
    "from collections import Counter\n",
    "model = EmbedAvg(25000,100,1,0.5)"
   ]
  },
  {
   "cell_type": "code",
   "execution_count": 9,
   "metadata": {},
   "outputs": [
    {
     "data": {
      "text/plain": [
       "'good atlanta georgia um my parents are from here um i love it i like the weather i like the opportunities um yes um it took a minute somewhat easy congestion thats it um i took up business and administration uh yeah i am here and there im on a break right now but i plan on going back in the uh next semester uh probably to open up my own business no um no specific reason i just dont travel a lot im pretty local once a year can you be a little bit more specific no answer i like reading books i enjoy i enjoy cooking um exercising is great im im im pretty good at it um yeah um probably about two weeks ago uh frustrated um i dont like bias um i dont like um when someone says theyre gonna do something and they dont uh somewhat friendship i like to play sports i enjoy uh going out with friends and family playing games grandparents parents um yeah i mean theyve always given me great advice theyve always kept it real real close i would say going to college right after high school well i wouldve been done by now you know i would have been probably out in the field in the career field uh taking a job off the street im sure i couldve yes im not sure maybe when i graduated from high school well uh i um i got my diploma my my diploma that i finished school and i met all the requirements  high school and i was approved to go do whatever i wanted to do living with who um its alright it could be better not no uh its pretty easy uh yes repeat that irritated um lazy no no no no um the other day weather was great sun was out different less less um interested uh shut down uh about two weeks ago uh yeah a friend of mine was annoying me and i just cut them off laughter its alright friendship chocolate tall thin thank you bye bye'"
      ]
     },
     "execution_count": 9,
     "metadata": {},
     "output_type": "execute_result"
    }
   ],
   "source": [
    "with open(TEXT_DIR+'process_docs.txt','r') as f:\n",
    "    docs = \"\".join(f.readlines()).split('\\n')\n",
    "docs[0]"
   ]
  },
  {
   "cell_type": "code",
   "execution_count": 12,
   "metadata": {
    "scrolled": true
   },
   "outputs": [],
   "source": [
    "words = [sentence.split() for sentence in docs]\n"
   ]
  },
  {
   "cell_type": "code",
   "execution_count": 16,
   "metadata": {},
   "outputs": [
    {
     "data": {
      "text/plain": [
       "8611"
      ]
     },
     "execution_count": 16,
     "metadata": {},
     "output_type": "execute_result"
    }
   ],
   "source": [
    "allwords = Counter(\" \".join(docs).split(' '))\n",
    "len(allwords)"
   ]
  },
  {
   "cell_type": "code",
   "execution_count": 38,
   "metadata": {},
   "outputs": [
    {
     "data": {
      "image/png": "[encoded data removed]",
      "text/plain": [
       "<Figure size 432x288 with 1 Axes>"
      ]
     },
     "metadata": {
      "needs_background": "light"
     },
     "output_type": "display_data"
    }
   ],
   "source": [
    "plt.hist(allwords.values())\n",
    "plt.show()"
   ]
  },
  {
   "cell_type": "code",
   "execution_count": 50,
   "metadata": {
    "scrolled": true
   },
   "outputs": [
    {
     "data": {
      "text/plain": [
       "[('pitfalls', 1),\n",
       " ('drain', 1),\n",
       " ('awakeness', 1),\n",
       " ('hoover', 1),\n",
       " ('dam', 1),\n",
       " ('breathtaking', 1),\n",
       " ('stitch', 1),\n",
       " ('workload', 1),\n",
       " ('vocational', 1),\n",
       " ('des', 1)]"
      ]
     },
     "execution_count": 50,
     "metadata": {},
     "output_type": "execute_result"
    }
   ],
   "source": [
    "allwords.most_common(8000)[-10:]"
   ]
  },
  {
   "cell_type": "code",
   "execution_count": 143,
   "metadata": {},
   "outputs": [
    {
     "data": {
      "text/plain": [
       "BiLSTM_ATT(\n",
       "  (embedding): Embedding(20, 12)\n",
       "  (lstm): LSTM(12, 10, num_layers=2, batch_first=True, bidirectional=True)\n",
       "  (att): Linear(in_features=20, out_features=8, bias=True)\n",
       "  (word_context_vector): Linear(in_features=8, out_features=1, bias=True)\n",
       "  (out): Linear(in_features=20, out_features=1, bias=True)\n",
       "  (dropout): Dropout(p=0.5, inplace=False)\n",
       ")"
      ]
     },
     "execution_count": 143,
     "metadata": {},
     "output_type": "execute_result"
    }
   ],
   "source": [
    "from core.model.WordAttention import WordAttention\n",
    "from core.model.biLSTM_attention import BiLSTM_ATT\n",
    "import torch.nn as nn\n",
    "import torch\n",
    "import torch.optim as optim\n",
    "import torch.functional as F\n",
    "from torch.nn.utils.rnn import pack_padded_sequence, pad_packed_sequence, PackedSequence\n",
    "from torch.utils.data import DataLoader,TensorDataset\n",
    "from sklearn.metrics import recall_score,precision_score,f1_score,accuracy_score\n",
    "import matplotlib.pyplot as plt\n",
    "\n",
    "sentences = torch.randint(0,20,(100,10)) # 100*10\n",
    "labels = torch.randint(0,2,(100,)) #100*1\n",
    "words_per_sentence = torch.randint(1,11,(100,))\n",
    "#model = WordAttention(voc_size=20,emb_size=12,rnn_size=10,rnn_layers=2,att_size=8,bidirection=True,dropout=0.5)\n",
    "model = BiLSTM_ATT(voc_size=20,emb_size=12,rnn_size=10,rnn_layers=2,att_size=8,bidirection=True,dropout=0.5)\n",
    "device = \"cuda\" if torch.cuda.is_available() else \"cpu\"\n",
    "criterion = nn.BCELoss()\n",
    "optimer = optim.Adam(model.parameters(),lr=0.01)\n",
    "model.to(device)"
   ]
  },
  {
   "cell_type": "code",
   "execution_count": 144,
   "metadata": {},
   "outputs": [],
   "source": [
    "temp_sentences = sentences\n",
    "temp_labels = labels\n",
    "temp_words = words_per_sentence"
   ]
  },
  {
   "cell_type": "code",
   "execution_count": 145,
   "metadata": {},
   "outputs": [
    {
     "data": {
      "text/plain": [
       "torch.Size([100])"
      ]
     },
     "execution_count": 145,
     "metadata": {},
     "output_type": "execute_result"
    }
   ],
   "source": [
    "dataset = TensorDataset(sentences,words_per_sentence,labels)\n",
    "data = DataLoader(dataset,batch_size=64,shuffle=True)\n",
    "sentences.shape\n",
    "labels.shape\n",
    "words_per_sentence.shape"
   ]
  },
  {
   "cell_type": "code",
   "execution_count": 146,
   "metadata": {},
   "outputs": [],
   "source": [
    "def acc_metrics(pre,y,threshold):\n",
    "    pre = [0 if num<threshold else 1 for num in pre]\n",
    "    recall = recall_score(y,pre)\n",
    "    precision = precision_score(y,pre)\n",
    "    f1 = f1_score(y,pre)\n",
    "    accuracy = accuracy_score(y,pre)\n",
    "    metrics = [recall,precision,f1,accuracy]\n",
    "    return [round(metric,3) for metric in metrics] \n",
    "    "
   ]
  },
  {
   "cell_type": "code",
   "execution_count": 147,
   "metadata": {},
   "outputs": [
    {
     "name": "stdout",
     "output_type": "stream",
     "text": [
      "[0.0, 0.0, 0.0, 0.438]\n",
      "[0.136, 0.429, 0.207, 0.361]\n",
      "1.4072996377944946\n",
      "[0.405, 0.625, 0.492, 0.516]\n",
      "[0.7, 0.609, 0.651, 0.583]\n",
      "1.3855034708976746\n",
      "[0.812, 0.481, 0.605, 0.469]\n",
      "[0.92, 0.697, 0.793, 0.667]\n",
      "1.3695263862609863\n",
      "[1.0, 0.548, 0.708, 0.562]\n",
      "[0.957, 0.629, 0.759, 0.611]\n",
      "1.3516038656234741\n",
      "[0.974, 0.613, 0.752, 0.609]\n",
      "[1.0, 0.5, 0.667, 0.5]\n",
      "1.3476160764694214\n",
      "[1.0, 0.594, 0.745, 0.594]\n",
      "[1.0, 0.543, 0.704, 0.556]\n",
      "1.3168478608131409\n",
      "[1.0, 0.562, 0.72, 0.562]\n",
      "[1.0, 0.618, 0.764, 0.639]\n",
      "1.2874531149864197\n",
      "[1.0, 0.562, 0.72, 0.562]\n",
      "[1.0, 0.583, 0.737, 0.583]\n",
      "1.2770016193389893\n",
      "[0.973, 0.632, 0.766, 0.656]\n",
      "[0.95, 0.633, 0.76, 0.667]\n",
      "1.2569674253463745\n",
      "[0.892, 0.673, 0.767, 0.688]\n",
      "[0.9, 0.643, 0.75, 0.667]\n",
      "1.2552590370178223\n",
      "[0.833, 0.732, 0.779, 0.734]\n",
      "[0.81, 0.708, 0.756, 0.694]\n",
      "1.1955742835998535\n",
      "[0.784, 0.725, 0.753, 0.703]\n",
      "[0.8, 0.727, 0.762, 0.722]\n",
      "1.1445006132125854\n",
      "[0.824, 0.8, 0.812, 0.797]\n",
      "[0.826, 0.792, 0.809, 0.75]\n",
      "1.0925728678703308\n",
      "[0.795, 0.738, 0.765, 0.703]\n",
      "[0.889, 0.8, 0.842, 0.833]\n",
      "1.0733824372291565\n",
      "[0.806, 0.784, 0.795, 0.766]\n",
      "[0.857, 0.783, 0.818, 0.778]\n",
      "1.0463948249816895\n",
      "[0.763, 0.829, 0.795, 0.766]\n",
      "[0.789, 0.789, 0.789, 0.778]\n",
      "1.0101724863052368\n",
      "[0.686, 0.8, 0.738, 0.734]\n",
      "[0.909, 0.87, 0.889, 0.861]\n",
      "0.9432063698768616\n",
      "[0.778, 0.848, 0.812, 0.797]\n",
      "[0.857, 0.783, 0.818, 0.778]\n",
      "0.9381740987300873\n",
      "[0.865, 0.78, 0.821, 0.781]\n",
      "[0.85, 0.944, 0.895, 0.889]\n",
      "0.835022360086441\n",
      "[0.889, 0.842, 0.865, 0.844]\n",
      "[0.952, 0.833, 0.889, 0.861]\n",
      "0.8602348864078522\n",
      "[0.933, 0.8, 0.862, 0.859]\n",
      "[0.889, 0.96, 0.923, 0.889]\n",
      "0.6917679905891418\n",
      "[0.914, 0.889, 0.901, 0.891]\n",
      "[0.955, 0.84, 0.894, 0.861]\n",
      "0.7101808190345764\n",
      "[0.892, 0.846, 0.868, 0.844]\n",
      "[0.95, 0.864, 0.905, 0.889]\n",
      "0.6691783964633942\n",
      "[0.944, 0.829, 0.883, 0.859]\n",
      "[0.952, 0.87, 0.909, 0.889]\n",
      "0.648452490568161\n",
      "[0.949, 0.841, 0.892, 0.859]\n",
      "[0.944, 0.85, 0.895, 0.889]\n",
      "0.6221879720687866\n",
      "[0.976, 0.93, 0.952, 0.938]\n",
      "[0.938, 0.789, 0.857, 0.861]\n",
      "0.5314469635486603\n",
      "[0.971, 0.944, 0.958, 0.953]\n",
      "[0.864, 0.864, 0.864, 0.833]\n",
      "0.495714008808136\n",
      "[0.953, 0.953, 0.953, 0.938]\n",
      "[1.0, 0.737, 0.848, 0.861]\n",
      "0.5517795383930206\n",
      "[0.897, 0.875, 0.886, 0.859]\n",
      "[1.0, 0.947, 0.973, 0.972]\n",
      "0.37442639470100403\n",
      "[0.949, 0.925, 0.937, 0.922]\n",
      "[0.833, 0.882, 0.857, 0.861]\n",
      "0.41021373867988586\n",
      "[0.886, 0.912, 0.899, 0.891]\n",
      "[0.955, 0.955, 0.955, 0.944]\n",
      "0.402560293674469\n",
      "[0.944, 0.919, 0.932, 0.922]\n",
      "[0.905, 0.905, 0.905, 0.889]\n",
      "0.40043461322784424\n",
      "[1.0, 0.944, 0.971, 0.969]\n",
      "[0.87, 0.952, 0.909, 0.889]\n",
      "0.3276805132627487\n",
      "[0.944, 0.919, 0.932, 0.922]\n",
      "[0.905, 0.95, 0.927, 0.917]\n",
      "0.3291197568178177\n",
      "[1.0, 0.925, 0.961, 0.953]\n",
      "[0.95, 0.905, 0.927, 0.917]\n",
      "0.3021503686904907\n",
      "[1.0, 0.891, 0.943, 0.922]\n",
      "[1.0, 0.941, 0.97, 0.972]\n",
      "0.27389156073331833\n",
      "[0.969, 0.939, 0.954, 0.953]\n",
      "[1.0, 1.0, 1.0, 1.0]\n",
      "0.21910246461629868\n",
      "[0.939, 0.969, 0.954, 0.953]\n",
      "[0.875, 0.955, 0.913, 0.889]\n",
      "0.2916499525308609\n",
      "[1.0, 0.974, 0.987, 0.984]\n",
      "[0.947, 0.9, 0.923, 0.917]\n",
      "0.23133176565170288\n",
      "[1.0, 0.951, 0.975, 0.969]\n",
      "[1.0, 0.947, 0.973, 0.972]\n",
      "0.19916501641273499\n",
      "[1.0, 0.949, 0.974, 0.969]\n",
      "[1.0, 0.909, 0.952, 0.944]\n",
      "0.21873962879180908\n",
      "[0.971, 0.944, 0.958, 0.953]\n",
      "[1.0, 0.957, 0.978, 0.972]\n",
      "0.1728300228714943\n",
      "[0.974, 0.974, 0.974, 0.969]\n",
      "[0.944, 0.944, 0.944, 0.944]\n",
      "0.18729101866483688\n",
      "[0.889, 1.0, 0.941, 0.938]\n",
      "[0.952, 1.0, 0.976, 0.972]\n",
      "0.2508702501654625\n",
      "[0.972, 0.972, 0.972, 0.969]\n",
      "[0.952, 1.0, 0.976, 0.972]\n",
      "0.1384430006146431\n",
      "[0.971, 1.0, 0.985, 0.984]\n",
      "[1.0, 0.92, 0.958, 0.944]\n",
      "0.1565524935722351\n",
      "[1.0, 0.975, 0.987, 0.984]\n",
      "[1.0, 0.9, 0.947, 0.944]\n",
      "0.16981685534119606\n",
      "[0.971, 0.943, 0.957, 0.953]\n",
      "[0.957, 1.0, 0.978, 0.972]\n",
      "0.15162379294633865\n",
      "[0.974, 0.974, 0.974, 0.969]\n",
      "[1.0, 0.95, 0.974, 0.972]\n",
      "0.12512630596756935\n",
      "[0.974, 1.0, 0.987, 0.984]\n",
      "[1.0, 1.0, 1.0, 1.0]\n",
      "0.09571291878819466\n",
      "[0.972, 0.946, 0.959, 0.953]\n",
      "[1.0, 1.0, 1.0, 1.0]\n",
      "0.10224147886037827\n",
      "[0.972, 0.972, 0.972, 0.969]\n",
      "[1.0, 1.0, 1.0, 1.0]\n",
      "0.10304233618080616\n",
      "[0.971, 0.971, 0.971, 0.969]\n",
      "[1.0, 1.0, 1.0, 1.0]\n",
      "0.08335409313440323\n",
      "[1.0, 0.976, 0.988, 0.984]\n",
      "[0.941, 1.0, 0.97, 0.972]\n",
      "0.08891767635941505\n",
      "[1.0, 1.0, 1.0, 1.0]\n",
      "[1.0, 0.955, 0.977, 0.972]\n",
      "0.082203458994627\n",
      "[0.977, 0.977, 0.977, 0.969]\n",
      "[1.0, 1.0, 1.0, 1.0]\n",
      "0.07668497413396835\n",
      "[0.97, 0.941, 0.955, 0.953]\n",
      "[1.0, 1.0, 1.0, 1.0]\n",
      "0.07672468386590481\n",
      "[1.0, 0.944, 0.971, 0.969]\n",
      "[1.0, 1.0, 1.0, 1.0]\n",
      "0.09748714044690132\n",
      "[0.975, 0.975, 0.975, 0.969]\n",
      "[1.0, 0.944, 0.971, 0.972]\n",
      "0.08447127044200897\n",
      "[1.0, 0.975, 0.987, 0.984]\n",
      "[0.944, 0.944, 0.944, 0.944]\n",
      "0.10192621871829033\n",
      "[1.0, 0.974, 0.987, 0.984]\n",
      "[1.0, 1.0, 1.0, 1.0]\n",
      "0.06891105510294437\n",
      "[0.974, 1.0, 0.987, 0.984]\n",
      "[1.0, 0.95, 0.974, 0.972]\n",
      "0.10126429051160812\n",
      "[1.0, 0.944, 0.971, 0.969]\n",
      "[0.957, 1.0, 0.978, 0.972]\n",
      "0.09530537948012352\n",
      "[1.0, 0.972, 0.986, 0.984]\n",
      "[0.955, 0.955, 0.955, 0.944]\n",
      "0.11818886920809746\n",
      "[1.0, 0.97, 0.985, 0.984]\n",
      "[0.96, 1.0, 0.98, 0.972]\n",
      "0.0730224996805191\n",
      "[0.974, 0.974, 0.974, 0.969]\n",
      "[1.0, 0.95, 0.974, 0.972]\n",
      "0.1144375205039978\n",
      "[0.973, 1.0, 0.986, 0.984]\n",
      "[1.0, 0.952, 0.976, 0.972]\n",
      "0.08300257846713066\n",
      "[1.0, 0.974, 0.987, 0.984]\n",
      "[1.0, 1.0, 1.0, 1.0]\n",
      "0.06222349405288696\n",
      "[0.974, 0.974, 0.974, 0.969]\n",
      "[1.0, 1.0, 1.0, 1.0]\n",
      "0.19656381011009216\n",
      "[1.0, 0.938, 0.968, 0.969]\n",
      "[1.0, 1.0, 1.0, 1.0]\n",
      "0.08925728499889374\n",
      "[1.0, 0.97, 0.985, 0.984]\n",
      "[1.0, 0.962, 0.98, 0.972]\n",
      "0.09041779860854149\n",
      "[0.974, 0.974, 0.974, 0.969]\n",
      "[0.944, 0.944, 0.944, 0.944]\n",
      "0.35125061869621277\n",
      "[0.973, 0.973, 0.973, 0.969]\n",
      "[0.85, 0.944, 0.895, 0.889]\n",
      "0.3955690786242485\n",
      "[0.976, 1.0, 0.988, 0.984]\n",
      "[1.0, 0.889, 0.941, 0.944]\n",
      "0.15467731095850468\n",
      "[1.0, 1.0, 1.0, 1.0]\n",
      "[0.95, 0.95, 0.95, 0.944]\n",
      "0.11270760372281075\n",
      "[1.0, 0.951, 0.975, 0.969]\n",
      "[1.0, 1.0, 1.0, 1.0]\n",
      "0.09293913096189499\n",
      "[0.973, 0.947, 0.96, 0.953]\n",
      "[1.0, 0.952, 0.976, 0.972]\n",
      "0.14658478647470474\n",
      "[1.0, 0.929, 0.963, 0.953]\n",
      "[1.0, 1.0, 1.0, 1.0]\n",
      "0.19089628383517265\n",
      "[1.0, 0.946, 0.972, 0.969]\n",
      "[0.909, 1.0, 0.952, 0.944]\n",
      "0.1482478752732277\n",
      "[0.917, 0.971, 0.943, 0.938]\n",
      "[1.0, 1.0, 1.0, 1.0]\n",
      "0.14499691873788834\n",
      "[0.951, 0.951, 0.951, 0.938]\n",
      "[1.0, 1.0, 1.0, 1.0]\n",
      "0.10934722889214754\n",
      "[0.971, 0.971, 0.971, 0.969]\n",
      "[1.0, 1.0, 1.0, 1.0]\n",
      "0.07710584439337254\n",
      "[1.0, 0.971, 0.986, 0.984]\n",
      "[0.957, 0.957, 0.957, 0.944]\n",
      "0.0970902256667614\n",
      "[0.95, 1.0, 0.974, 0.969]\n",
      "[1.0, 0.944, 0.971, 0.972]\n",
      "0.10653265565633774\n",
      "[0.975, 1.0, 0.987, 0.984]\n",
      "[1.0, 0.944, 0.971, 0.972]\n",
      "0.10642510652542114\n",
      "[0.973, 0.973, 0.973, 0.969]\n",
      "[1.0, 0.952, 0.976, 0.972]\n",
      "0.10402241349220276\n",
      "[0.971, 0.971, 0.971, 0.969]\n",
      "[1.0, 0.957, 0.978, 0.972]\n",
      "0.09423208981752396\n",
      "[1.0, 0.973, 0.986, 0.984]\n",
      "[0.952, 1.0, 0.976, 0.972]\n",
      "0.07298173196613789\n",
      "[0.973, 0.973, 0.973, 0.969]\n",
      "[0.95, 1.0, 0.974, 0.972]\n",
      "0.08290958777070045\n",
      "[0.971, 0.944, 0.958, 0.953]\n",
      "[0.955, 0.955, 0.955, 0.944]\n",
      "0.13549203053116798\n",
      "[1.0, 0.972, 0.986, 0.984]\n",
      "[1.0, 1.0, 1.0, 1.0]\n",
      "0.06680065952241421\n",
      "[1.0, 0.974, 0.987, 0.984]\n",
      "[1.0, 1.0, 1.0, 1.0]\n",
      "0.0640466958284378\n",
      "[1.0, 0.972, 0.986, 0.984]\n",
      "[1.0, 0.957, 0.978, 0.972]\n",
      "0.09400800988078117\n",
      "[1.0, 0.973, 0.986, 0.984]\n",
      "[1.0, 0.955, 0.977, 0.972]\n",
      "0.08697815425693989\n",
      "[1.0, 0.973, 0.986, 0.984]\n",
      "[1.0, 0.955, 0.977, 0.972]\n",
      "0.10500412434339523\n",
      "[1.0, 1.0, 1.0, 1.0]\n",
      "[1.0, 0.947, 0.973, 0.972]\n",
      "0.09433704894036055\n",
      "[1.0, 0.975, 0.987, 0.984]\n",
      "[1.0, 1.0, 1.0, 1.0]\n",
      "0.06362858600914478\n",
      "[1.0, 0.949, 0.974, 0.969]\n",
      "[1.0, 1.0, 1.0, 1.0]\n",
      "0.06535052880644798\n",
      "[1.0, 0.972, 0.986, 0.984]\n",
      "[1.0, 0.957, 0.978, 0.972]\n",
      "0.08069013990461826\n",
      "[0.974, 1.0, 0.987, 0.984]\n",
      "[1.0, 0.905, 0.95, 0.944]\n",
      "0.10795432329177856\n"
     ]
    }
   ],
   "source": [
    "for epoch in range(100):\n",
    "    Loss = 0\n",
    "    for sentences,words_per_sentence,labels in data:\n",
    "        model.train()\n",
    "        sentences = sentences.to(device)\n",
    "        words_per_sentence = words_per_sentence.to(device)\n",
    "        labels = labels.to(device)\n",
    "        pre = model(sentences,words_per_sentence)\n",
    "        print(acc_metrics(pre.squeeze(),labels.float(),threshold=0.5))\n",
    "        loss = criterion(pre.squeeze(),labels.float())\n",
    "        optimer.zero_grad()\n",
    "        loss.backward()\n",
    "        optimer.step()\n",
    "        Loss+=loss.item()\n",
    "    print(Loss)"
   ]
  },
  {
   "cell_type": "code",
   "execution_count": 148,
   "metadata": {
    "scrolled": true
   },
   "outputs": [
    {
     "data": {
      "text/plain": [
       "[0,\n",
       " 1,\n",
       " 1,\n",
       " 0,\n",
       " 0,\n",
       " 0,\n",
       " 1,\n",
       " 0,\n",
       " 1,\n",
       " 1,\n",
       " 1,\n",
       " 0,\n",
       " 0,\n",
       " 0,\n",
       " 0,\n",
       " 0,\n",
       " 1,\n",
       " 1,\n",
       " 1,\n",
       " 1,\n",
       " 0,\n",
       " 1,\n",
       " 0,\n",
       " 1,\n",
       " 1,\n",
       " 0,\n",
       " 0,\n",
       " 0,\n",
       " 1,\n",
       " 0,\n",
       " 1,\n",
       " 0,\n",
       " 1,\n",
       " 1,\n",
       " 1,\n",
       " 0,\n",
       " 1,\n",
       " 1,\n",
       " 0,\n",
       " 0,\n",
       " 0,\n",
       " 1,\n",
       " 1,\n",
       " 0,\n",
       " 1,\n",
       " 0,\n",
       " 1,\n",
       " 1,\n",
       " 1,\n",
       " 1,\n",
       " 1,\n",
       " 0,\n",
       " 1,\n",
       " 1,\n",
       " 0,\n",
       " 0,\n",
       " 1,\n",
       " 1,\n",
       " 1,\n",
       " 0,\n",
       " 0,\n",
       " 1,\n",
       " 1,\n",
       " 1,\n",
       " 1,\n",
       " 1,\n",
       " 0,\n",
       " 0,\n",
       " 0,\n",
       " 0,\n",
       " 1,\n",
       " 1,\n",
       " 1,\n",
       " 0,\n",
       " 1,\n",
       " 1,\n",
       " 0,\n",
       " 1,\n",
       " 1,\n",
       " 1,\n",
       " 0,\n",
       " 0,\n",
       " 1,\n",
       " 1,\n",
       " 1,\n",
       " 1,\n",
       " 1,\n",
       " 0,\n",
       " 1,\n",
       " 1,\n",
       " 1,\n",
       " 0,\n",
       " 1,\n",
       " 0,\n",
       " 1,\n",
       " 0,\n",
       " 0,\n",
       " 1,\n",
       " 0,\n",
       " 0]"
      ]
     },
     "execution_count": 148,
     "metadata": {},
     "output_type": "execute_result"
    }
   ],
   "source": [
    "temp_labels.numpy().tolist()"
   ]
  },
  {
   "cell_type": "code",
   "execution_count": 149,
   "metadata": {
    "scrolled": true
   },
   "outputs": [
    {
     "data": {
      "text/plain": [
       "[0,\n",
       " 1,\n",
       " 1,\n",
       " 0,\n",
       " 0,\n",
       " 0,\n",
       " 1,\n",
       " 0,\n",
       " 1,\n",
       " 1,\n",
       " 1,\n",
       " 0,\n",
       " 0,\n",
       " 0,\n",
       " 0,\n",
       " 0,\n",
       " 1,\n",
       " 1,\n",
       " 1,\n",
       " 1,\n",
       " 0,\n",
       " 1,\n",
       " 0,\n",
       " 1,\n",
       " 1,\n",
       " 0,\n",
       " 0,\n",
       " 0,\n",
       " 1,\n",
       " 0,\n",
       " 1,\n",
       " 0,\n",
       " 1,\n",
       " 1,\n",
       " 1,\n",
       " 0,\n",
       " 1,\n",
       " 1,\n",
       " 0,\n",
       " 0,\n",
       " 0,\n",
       " 1,\n",
       " 1,\n",
       " 0,\n",
       " 1,\n",
       " 0,\n",
       " 1,\n",
       " 1,\n",
       " 1,\n",
       " 1,\n",
       " 1,\n",
       " 0,\n",
       " 1,\n",
       " 1,\n",
       " 0,\n",
       " 0,\n",
       " 1,\n",
       " 1,\n",
       " 1,\n",
       " 0,\n",
       " 0,\n",
       " 1,\n",
       " 1,\n",
       " 1,\n",
       " 1,\n",
       " 1,\n",
       " 1,\n",
       " 0,\n",
       " 0,\n",
       " 0,\n",
       " 1,\n",
       " 1,\n",
       " 1,\n",
       " 0,\n",
       " 1,\n",
       " 1,\n",
       " 1,\n",
       " 1,\n",
       " 1,\n",
       " 1,\n",
       " 0,\n",
       " 0,\n",
       " 1,\n",
       " 1,\n",
       " 1,\n",
       " 1,\n",
       " 1,\n",
       " 0,\n",
       " 1,\n",
       " 1,\n",
       " 1,\n",
       " 0,\n",
       " 1,\n",
       " 0,\n",
       " 1,\n",
       " 0,\n",
       " 0,\n",
       " 1,\n",
       " 0,\n",
       " 0]"
      ]
     },
     "execution_count": 149,
     "metadata": {},
     "output_type": "execute_result"
    }
   ],
   "source": [
    "model.eval()\n",
    "pre = model(temp_sentences,temp_words).squeeze()\n",
    "pre = [1 if num>0.5 else 0 for num in pre]\n",
    "pre"
   ]
  },
  {
   "cell_type": "code",
   "execution_count": 150,
   "metadata": {},
   "outputs": [
    {
     "data": {
      "image/png": "[encoded data removed]",
      "text/plain": [
       "<Figure size 432x288 with 1 Axes>"
      ]
     },
     "metadata": {
      "needs_background": "light"
     },
     "output_type": "display_data"
    }
   ],
   "source": [
    "plt.figure(figsize=(6, 6.5))\n",
    "\n",
    "plt.plot(range(100),temp_labels,label =\"True\")\n",
    "plt.plot(range(100),pre,label =\"pre\")\n",
    "plt.legend()\n",
    "plt.show()"
   ]
  }
 ],
 "metadata": {
  "kernelspec": {
   "display_name": "Python 3",
   "language": "python",
   "name": "python3"
  },
  "language_info": {
   "codemirror_mode": {
    "name": "ipython",
    "version": 3
   },
   "file_extension": ".py",
   "mimetype": "text/x-python",
   "name": "python",
   "nbconvert_exporter": "python",
   "pygments_lexer": "ipython3",
   "version": "3.7.8"
  }
 },
 "nbformat": 4,
 "nbformat_minor": 4
}
