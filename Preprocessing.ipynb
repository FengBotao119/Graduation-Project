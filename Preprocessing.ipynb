{
 "cells": [
  {
   "cell_type": "code",
   "execution_count": 1,
   "metadata": {},
   "outputs": [],
   "source": [
    "import pandas as pd\n",
    "import numpy as np\n",
    "import matplotlib.pyplot as plt\n",
    "import os\n",
    "import nltk\n",
    "from string import punctuation\n",
    "import re\n",
    "from global_values import *\n"
   ]
  },
  {
   "cell_type": "markdown",
   "metadata": {},
   "source": [
    "# 文本数据处理"
   ]
  },
  {
   "cell_type": "code",
   "execution_count": 7,
   "metadata": {},
   "outputs": [],
   "source": [
    "train_data = pd.read_csv(data_dir+'train_split_Depression_AVEC2017.csv')\n",
    "dev_data = pd.read_csv(data_dir+'dev_split_Depression_AVEC2017.csv')\n",
    "test_data = pd.read_csv(data_dir+'full_test_split.csv')"
   ]
  },
  {
   "cell_type": "code",
   "execution_count": 8,
   "metadata": {},
   "outputs": [],
   "source": [
    "test_data.rename(columns = {\"PHQ_Binary\":\"PHQ8_Binary\"},inplace=True)"
   ]
  },
  {
   "cell_type": "code",
   "execution_count": 9,
   "metadata": {},
   "outputs": [
    {
     "name": "stdout",
     "output_type": "stream",
     "text": [
      "Index(['Participant_ID', 'PHQ8_Binary', 'PHQ8_Score', 'Gender',\n",
      "       'PHQ8_NoInterest', 'PHQ8_Depressed', 'PHQ8_Sleep', 'PHQ8_Tired',\n",
      "       'PHQ8_Appetite', 'PHQ8_Failure', 'PHQ8_Concentrating', 'PHQ8_Moving'],\n",
      "      dtype='object')\n",
      "Index(['Participant_ID', 'PHQ8_Binary', 'PHQ8_Score', 'Gender',\n",
      "       'PHQ8_NoInterest', 'PHQ8_Depressed', 'PHQ8_Sleep', 'PHQ8_Tired',\n",
      "       'PHQ8_Appetite', 'PHQ8_Failure', 'PHQ8_Concentrating', 'PHQ8_Moving'],\n",
      "      dtype='object')\n",
      "Index(['Participant_ID', 'PHQ8_Binary', 'PHQ_Score', 'Gender'], dtype='object')\n"
     ]
    },
    {
     "data": {
      "text/html": [
       "<div>\n",
       "<style scoped>\n",
       "    .dataframe tbody tr th:only-of-type {\n",
       "        vertical-align: middle;\n",
       "    }\n",
       "\n",
       "    .dataframe tbody tr th {\n",
       "        vertical-align: top;\n",
       "    }\n",
       "\n",
       "    .dataframe thead th {\n",
       "        text-align: right;\n",
       "    }\n",
       "</style>\n",
       "<table border=\"1\" class=\"dataframe\">\n",
       "  <thead>\n",
       "    <tr style=\"text-align: right;\">\n",
       "      <th></th>\n",
       "      <th>Participant_ID</th>\n",
       "      <th>PHQ8_Binary</th>\n",
       "    </tr>\n",
       "  </thead>\n",
       "  <tbody>\n",
       "    <tr>\n",
       "      <th>0</th>\n",
       "      <td>303</td>\n",
       "      <td>0</td>\n",
       "    </tr>\n",
       "    <tr>\n",
       "      <th>1</th>\n",
       "      <td>304</td>\n",
       "      <td>0</td>\n",
       "    </tr>\n",
       "    <tr>\n",
       "      <th>2</th>\n",
       "      <td>305</td>\n",
       "      <td>0</td>\n",
       "    </tr>\n",
       "    <tr>\n",
       "      <th>3</th>\n",
       "      <td>310</td>\n",
       "      <td>0</td>\n",
       "    </tr>\n",
       "    <tr>\n",
       "      <th>4</th>\n",
       "      <td>312</td>\n",
       "      <td>0</td>\n",
       "    </tr>\n",
       "  </tbody>\n",
       "</table>\n",
       "</div>"
      ],
      "text/plain": [
       "   Participant_ID  PHQ8_Binary\n",
       "0             303            0\n",
       "1             304            0\n",
       "2             305            0\n",
       "3             310            0\n",
       "4             312            0"
      ]
     },
     "execution_count": 9,
     "metadata": {},
     "output_type": "execute_result"
    }
   ],
   "source": [
    "print(train_data.columns,end='\\n')\n",
    "print(dev_data.columns,end='\\n')\n",
    "print(test_data.columns,end='\\n')\n",
    "labels = pd.concat([train_data[['Participant_ID','PHQ8_Binary']],dev_data[['Participant_ID','PHQ8_Binary']],\\\n",
    "           test_data[['Participant_ID','PHQ8_Binary']]],axis=0)\n",
    "labels.sort_values(by=\"Participant_ID\")\n",
    "labels.head()"
   ]
  },
  {
   "cell_type": "code",
   "execution_count": 10,
   "metadata": {},
   "outputs": [
    {
     "data": {
      "image/png": "[encoded data removed]",
      "text/plain": [
       "<Figure size 432x288 with 1 Axes>"
      ]
     },
     "metadata": {
      "needs_background": "light"
     },
     "output_type": "display_data"
    }
   ],
   "source": [
    "plt.hist(labels['PHQ8_Binary'])\n",
    "plt.show()"
   ]
  },
  {
   "cell_type": "code",
   "execution_count": 11,
   "metadata": {},
   "outputs": [],
   "source": [
    "text_files = [file for file in os.listdir(text_dir) if file.endswith('.csv')]\n",
    "text_files[:5]\n",
    "assert len(text_files)==189"
   ]
  },
  {
   "cell_type": "code",
   "execution_count": 12,
   "metadata": {},
   "outputs": [
    {
     "data": {
      "text/plain": [
       "['300_TRANSCRIPT.csv',\n",
       " '301_TRANSCRIPT.csv',\n",
       " '302_TRANSCRIPT.csv',\n",
       " '303_TRANSCRIPT.csv',\n",
       " '304_TRANSCRIPT.csv']"
      ]
     },
     "execution_count": 12,
     "metadata": {},
     "output_type": "execute_result"
    }
   ],
   "source": [
    "text_files.sort()\n",
    "PREFIX = [file[:3] for file in text_files]\n",
    "text_files[:5]"
   ]
  },
  {
   "cell_type": "code",
   "execution_count": 13,
   "metadata": {},
   "outputs": [
    {
     "data": {
      "text/html": [
       "<div>\n",
       "<style scoped>\n",
       "    .dataframe tbody tr th:only-of-type {\n",
       "        vertical-align: middle;\n",
       "    }\n",
       "\n",
       "    .dataframe tbody tr th {\n",
       "        vertical-align: top;\n",
       "    }\n",
       "\n",
       "    .dataframe thead th {\n",
       "        text-align: right;\n",
       "    }\n",
       "</style>\n",
       "<table border=\"1\" class=\"dataframe\">\n",
       "  <thead>\n",
       "    <tr style=\"text-align: right;\">\n",
       "      <th></th>\n",
       "      <th>start_time</th>\n",
       "      <th>stop_time</th>\n",
       "      <th>speaker</th>\n",
       "      <th>value</th>\n",
       "    </tr>\n",
       "  </thead>\n",
       "  <tbody>\n",
       "    <tr>\n",
       "      <th>0</th>\n",
       "      <td>36.588</td>\n",
       "      <td>39.668</td>\n",
       "      <td>Ellie</td>\n",
       "      <td>hi i'm ellie thanks for coming in today</td>\n",
       "    </tr>\n",
       "    <tr>\n",
       "      <th>1</th>\n",
       "      <td>39.888</td>\n",
       "      <td>43.378</td>\n",
       "      <td>Ellie</td>\n",
       "      <td>i was created to talk to people in a safe and ...</td>\n",
       "    </tr>\n",
       "    <tr>\n",
       "      <th>2</th>\n",
       "      <td>43.728</td>\n",
       "      <td>48.498</td>\n",
       "      <td>Ellie</td>\n",
       "      <td>think of me as a friend i don't judge i can't ...</td>\n",
       "    </tr>\n",
       "    <tr>\n",
       "      <th>3</th>\n",
       "      <td>49.188</td>\n",
       "      <td>52.388</td>\n",
       "      <td>Ellie</td>\n",
       "      <td>i'm here to learn about people and would love ...</td>\n",
       "    </tr>\n",
       "    <tr>\n",
       "      <th>4</th>\n",
       "      <td>52.658</td>\n",
       "      <td>58.958</td>\n",
       "      <td>Ellie</td>\n",
       "      <td>i'll ask a few questions to get us started and...</td>\n",
       "    </tr>\n",
       "  </tbody>\n",
       "</table>\n",
       "</div>"
      ],
      "text/plain": [
       "   start_time  stop_time speaker  \\\n",
       "0      36.588     39.668   Ellie   \n",
       "1      39.888     43.378   Ellie   \n",
       "2      43.728     48.498   Ellie   \n",
       "3      49.188     52.388   Ellie   \n",
       "4      52.658     58.958   Ellie   \n",
       "\n",
       "                                               value  \n",
       "0            hi i'm ellie thanks for coming in today  \n",
       "1  i was created to talk to people in a safe and ...  \n",
       "2  think of me as a friend i don't judge i can't ...  \n",
       "3  i'm here to learn about people and would love ...  \n",
       "4  i'll ask a few questions to get us started and...  "
      ]
     },
     "execution_count": 13,
     "metadata": {},
     "output_type": "execute_result"
    }
   ],
   "source": [
    "text_300 = pd.read_csv(text_dir+text_files[0],sep='\\t')\n",
    "text_300.head()"
   ]
  },
  {
   "cell_type": "code",
   "execution_count": 14,
   "metadata": {},
   "outputs": [
    {
     "data": {
      "text/plain": [
       "\"good. atlanta georgia. um my parents are from here um. i love it. i like the weather. i like the opportunities. um. yes. um. it took a minute. somewhat easy. congestion. that's it. um i took up business and administration. uh yeah i am. here and there i'm on a break right now but i plan on going back in the uh next semester. uh probably to open up my own business. no. um no specific reason i just. don't travel a lot. i'm pretty local. once a year. can you be a little bit more specific. no answer. i like reading books i enjoy i enjoy cooking. um exercising is great. i'm i'm i'm pretty good at it. um. yeah. um probably about. two weeks ago. uh frustrated. um. i don't like bias. um i don't like um when someone says they're gonna do something and they don't. uh somewhat. friendship. i like to play sports i enjoy uh going out with friends and family. playing games. grandparents. parents. um yeah i mean they've always given me great advice. they've always kept it real. real close. i would say going to college right after high school. well i would've been done by now you know. i would have been probably out in the field. in the career field. uh taking a job off the street. i'm sure i could've yes. i'm not sure. maybe when i graduated from high school. well uh i um i got my diploma. my my diploma that i finished school and i met all the requirements . high school. and i was approved to go. do whatever i wanted to do. living with who. um it's alright it could be better. not. no. uh it's pretty easy. uh yes. repeat that. irritated um. lazy. no. no. no. no. um the other day. weather was great sun was out. different. less. less um. interested. uh shut down. uh about two weeks ago. uh yeah a friend of mine was annoying me and i just. cut them off. [laughter] it's alright. friendship. chocolate. tall. thin. thank you. bye bye\""
      ]
     },
     "execution_count": 14,
     "metadata": {},
     "output_type": "execute_result"
    }
   ],
   "source": [
    "\". \".join(text_300[text_300['speaker']==\"Participant\"].value.tolist())"
   ]
  },
  {
   "cell_type": "code",
   "execution_count": 15,
   "metadata": {},
   "outputs": [],
   "source": [
    "with open(text_dir+'docs.txt','w') as f:\n",
    "    for file in text_files:\n",
    "        text = pd.read_csv(text_dir+file,sep='\\t')\n",
    "        if np.any(text.value.isnull()):\n",
    "            text.value.fillna(\"\",inplace=True)\n",
    "        try:\n",
    "            text = \". \".join(text[text['speaker']==\"Participant\"].value.tolist())\n",
    "            f.write(text)\n",
    "            f.write('\\n')\n",
    "        except:\n",
    "            print(file)"
   ]
  },
  {
   "cell_type": "code",
   "execution_count": 4,
   "metadata": {},
   "outputs": [],
   "source": [
    "with open(TEXT_DIR+\"docs.txt\",'r') as f:\n",
    "    docs = \"\".join(f.readlines()).split('\\n')\n",
    "    docs = docs[:-1]\n",
    "assert len(docs)==189"
   ]
  },
  {
   "cell_type": "code",
   "execution_count": 17,
   "metadata": {},
   "outputs": [],
   "source": [
    "with open(text_dir+\"labels.txt\",'w') as f:\n",
    "    for label in labels.PHQ8_Binary.tolist():\n",
    "        f.write(str(label))\n",
    "        f.write('\\n')\n"
   ]
  },
  {
   "cell_type": "code",
   "execution_count": 5,
   "metadata": {},
   "outputs": [],
   "source": [
    "with open(TEXT_DIR+\"labels.txt\",'r') as f:\n",
    "    labels = \"\".join(f.readlines()).split('\\n')\n",
    "    labels = labels[:-1]\n",
    "assert len(labels)==189"
   ]
  },
  {
   "cell_type": "code",
   "execution_count": 86,
   "metadata": {},
   "outputs": [],
   "source": [
    "def Process_text(text):\n",
    "    \"\"\"预处理文本:\n",
    "    - 分词\n",
    "    - 去特殊符号\n",
    "    \"\"\"\n",
    "    pattern = r\"[!\\\"#$%&'()*+,-./:;<=>?@\\[\\]\\\\^_`{|}~]\"\n",
    "    text = re.sub(pattern,\"\",text)\n",
    "    return text"
   ]
  },
  {
   "cell_type": "code",
   "execution_count": 87,
   "metadata": {},
   "outputs": [],
   "source": [
    "with open(TEXT_DIR+'process_docs.txt','w') as f:\n",
    "    for doc in docs:\n",
    "        f.write(Process_text(doc))\n",
    "        f.write('\\n')"
   ]
  },
  {
   "cell_type": "code",
   "execution_count": 10,
   "metadata": {},
   "outputs": [],
   "source": [
    "import torch\n",
    "from torch import optim\n",
    "import torch.nn as nn\n",
    "import torch.nn.functional as F\n",
    "from core.model.EmbeddingAverage import EmbedAvg\n",
    "from collections import Counter\n",
    "model = EmbedAvg(25000,100,1,0.5)"
   ]
  },
  {
   "cell_type": "code",
   "execution_count": 9,
   "metadata": {},
   "outputs": [
    {
     "data": {
      "text/plain": [
       "'good atlanta georgia um my parents are from here um i love it i like the weather i like the opportunities um yes um it took a minute somewhat easy congestion thats it um i took up business and administration uh yeah i am here and there im on a break right now but i plan on going back in the uh next semester uh probably to open up my own business no um no specific reason i just dont travel a lot im pretty local once a year can you be a little bit more specific no answer i like reading books i enjoy i enjoy cooking um exercising is great im im im pretty good at it um yeah um probably about two weeks ago uh frustrated um i dont like bias um i dont like um when someone says theyre gonna do something and they dont uh somewhat friendship i like to play sports i enjoy uh going out with friends and family playing games grandparents parents um yeah i mean theyve always given me great advice theyve always kept it real real close i would say going to college right after high school well i wouldve been done by now you know i would have been probably out in the field in the career field uh taking a job off the street im sure i couldve yes im not sure maybe when i graduated from high school well uh i um i got my diploma my my diploma that i finished school and i met all the requirements  high school and i was approved to go do whatever i wanted to do living with who um its alright it could be better not no uh its pretty easy uh yes repeat that irritated um lazy no no no no um the other day weather was great sun was out different less less um interested uh shut down uh about two weeks ago uh yeah a friend of mine was annoying me and i just cut them off laughter its alright friendship chocolate tall thin thank you bye bye'"
      ]
     },
     "execution_count": 9,
     "metadata": {},
     "output_type": "execute_result"
    }
   ],
   "source": [
    "with open(TEXT_DIR+'process_docs.txt','r') as f:\n",
    "    docs = \"\".join(f.readlines()).split('\\n')\n",
    "docs[0]"
   ]
  },
  {
   "cell_type": "code",
   "execution_count": 12,
   "metadata": {
    "scrolled": true
   },
   "outputs": [],
   "source": [
    "words = [sentence.split() for sentence in docs]\n"
   ]
  },
  {
   "cell_type": "code",
   "execution_count": 16,
   "metadata": {},
   "outputs": [
    {
     "data": {
      "text/plain": [
       "8611"
      ]
     },
     "execution_count": 16,
     "metadata": {},
     "output_type": "execute_result"
    }
   ],
   "source": [
    "allwords = Counter(\" \".join(docs).split(' '))\n",
    "len(allwords)"
   ]
  },
  {
   "cell_type": "code",
   "execution_count": 38,
   "metadata": {},
   "outputs": [
    {
     "data": {
      "image/png": "[encoded data removed]",
      "text/plain": [
       "<Figure size 432x288 with 1 Axes>"
      ]
     },
     "metadata": {
      "needs_background": "light"
     },
     "output_type": "display_data"
    }
   ],
   "source": [
    "plt.hist(allwords.values())\n",
    "plt.show()"
   ]
  },
  {
   "cell_type": "code",
   "execution_count": 50,
   "metadata": {
    "scrolled": true
   },
   "outputs": [
    {
     "data": {
      "text/plain": [
       "[('pitfalls', 1),\n",
       " ('drain', 1),\n",
       " ('awakeness', 1),\n",
       " ('hoover', 1),\n",
       " ('dam', 1),\n",
       " ('breathtaking', 1),\n",
       " ('stitch', 1),\n",
       " ('workload', 1),\n",
       " ('vocational', 1),\n",
       " ('des', 1)]"
      ]
     },
     "execution_count": 50,
     "metadata": {},
     "output_type": "execute_result"
    }
   ],
   "source": [
    "allwords.most_common(8000)[-10:]"
   ]
  },
  {
   "cell_type": "code",
   "execution_count": 128,
   "metadata": {},
   "outputs": [
    {
     "data": {
      "text/plain": [
       "BiLSTM_ATT(\n",
       "  (embedding): Embedding(20, 12)\n",
       "  (lstm): LSTM(12, 10, num_layers=2, batch_first=True, bidirectional=True)\n",
       "  (att): Linear(in_features=20, out_features=8, bias=True)\n",
       "  (word_context_vector): Linear(in_features=8, out_features=1, bias=True)\n",
       "  (out): Linear(in_features=20, out_features=1, bias=True)\n",
       "  (dropout): Dropout(p=0.5, inplace=False)\n",
       ")"
      ]
     },
     "execution_count": 128,
     "metadata": {},
     "output_type": "execute_result"
    }
   ],
   "source": [
    "from core.model.WordAttention import WordAttention\n",
    "from core.model.biLSTM_attention import BiLSTM_ATT\n",
    "import torch.nn as nn\n",
    "import torch\n",
    "import torch.optim as optim\n",
    "import torch.functional as F\n",
    "from torch.nn.utils.rnn import pack_padded_sequence, pad_packed_sequence, PackedSequence\n",
    "from torch.utils.data import DataLoader,TensorDataset\n",
    "from sklearn.metrics import recall_score,precision_score,f1_score,accuracy_score\n",
    "import matplotlib.pyplot as plt\n",
    "from global_values import *\n",
    "\n",
    "sentences = torch.randint(0,20,(100,10)) # 100*10\n",
    "labels = torch.randint(0,2,(100,)) #100*1\n",
    "words_per_sentence = torch.randint(1,11,(100,))\n",
    "\n",
    "val_sentences = torch.randint(0,20,(200,10))\n",
    "val_labels = torch.randint(0,2,(200,))\n",
    "val_words_per_sentence = torch.randint(1,11,(200,))\n",
    "\n",
    "#model = WordAttention(voc_size=20,emb_size=12,rnn_size=10,rnn_layers=2,att_size=8,bidirection=True,dropout=0.5)\n",
    "model = BiLSTM_ATT(voc_size=20,emb_size=12,rnn_size=10,rnn_layers=2,att_size=8,bidirection=True,dropout=0.5)\n",
    "device = \"cuda\" if torch.cuda.is_available() else \"cpu\"\n",
    "criterion = nn.BCELoss()\n",
    "optimizer = optim.Adam(model.parameters(),lr=0.01)\n",
    "scheduler = torch.optim.lr_scheduler.ExponentialLR(optimizer, 0.5)\n",
    "model.to(device)"
   ]
  },
  {
   "cell_type": "code",
   "execution_count": 137,
   "metadata": {},
   "outputs": [],
   "source": [
    "temp_sentences = sentences\n",
    "temp_labels = labels\n",
    "temp_words = words_per_sentence"
   ]
  },
  {
   "cell_type": "code",
   "execution_count": 129,
   "metadata": {},
   "outputs": [],
   "source": [
    "dataset = TensorDataset(sentences,words_per_sentence,labels)\n",
    "train_data = DataLoader(dataset,batch_size=100,shuffle=True)\n",
    "\n",
    "val_dataset = TensorDataset(val_sentences,val_words_per_sentence,val_labels)\n",
    "val_data = DataLoader(val_dataset,batch_size=200,shuffle=True)"
   ]
  },
  {
   "cell_type": "code",
   "execution_count": 149,
   "metadata": {},
   "outputs": [],
   "source": [
    "def acc_metrics(pre,y,threshold):\n",
    "    pre = [0 if num<threshold else 1 for num in pre]\n",
    "    #recall = recall_score(y,pre)\n",
    "    #precision = precision_score(y,pre)\n",
    "    #f1 = f1_score(y,pre)\n",
    "    #accuracy = accuracy_score(y,pre)\n",
    "    #metrics = [recall,precision,f1,accuracy]\n",
    "    #return [round(metric,3) for metric in metrics] \n",
    "    cnt = 0\n",
    "    positive = 0\n",
    "    true_positive = 0\n",
    "    pre_positive = 0\n",
    "    for i in range(len(pre)):\n",
    "        if pre[i]==y[i]:\n",
    "            cnt+=1\n",
    "        if y[i]==1:\n",
    "            positive+=1\n",
    "        if y[i]==1 and pre[i]==1:\n",
    "            true_positive+=1\n",
    "        if pre[i]==1:\n",
    "            pre_positive+=1\n",
    "            \n",
    "    return cnt,len(pre),true_positive,positive,pre_positive\n",
    "\n",
    "def Train(epoch,train_data,val_data):\n",
    "    Loss = 0\n",
    "    cnts = 0\n",
    "    totals = 0\n",
    "    true_positives = 0 \n",
    "    positives = 0\n",
    "    pre_positives = 0\n",
    "    for i,(sentences,words_per_sentence,labels) in enumerate(train_data):\n",
    "        model.train()\n",
    "        sentences = sentences.to(device)\n",
    "        words_per_sentence = words_per_sentence.to(device)\n",
    "        labels = labels.to(device)\n",
    "        pre = model(sentences,words_per_sentence)\n",
    "        \n",
    "        cnt,total,true_positive,positive,pre_positive = acc_metrics(pre.squeeze(),labels.float(),threshold=0.5)\n",
    "        cnts+=cnt\n",
    "        totals+= total\n",
    "        true_positives+=true_positive\n",
    "        positives+=positive\n",
    "        pre_positives+=pre_positive\n",
    "        \n",
    "        loss = criterion(pre.squeeze(),labels.float())\n",
    "        optimizer.zero_grad()\n",
    "        loss.backward()\n",
    "        torch.nn.utils.clip_grad_norm_(model.parameters(), GRAD_CLIP)\n",
    "        optimizer.step()\n",
    "        Loss+=loss.item()\n",
    "        print(\"Training epoch: {} Loss: {:.5f} ACC: {:.2%} Recall: {:.2%} Precision: {:.2%}\".format(epoch,Loss,cnts/totals,\\\n",
    "                                                                                                    true_positives/positives,\\\n",
    "                                                                                                    true_positives/pre_positives))   \n",
    "        if i%100==0:\n",
    "            val_loss = Evaluate(model,val_data)\n",
    "            if len(val_losses)==0 or val_loss<min(val_losses):\n",
    "                print(\"best model, Val loss:{:.5f}\".format(val_loss))\n",
    "                torch.save(model.state_dict(),\"./result/biLSTM_att-best.th\")\n",
    "            else:\n",
    "                scheduler.step()\n",
    "            val_losses.append(val_loss)\n",
    "            \n",
    "            \n",
    "def Evaluate(model,val_data):\n",
    "    Loss = 0\n",
    "    cnts = 0\n",
    "    totals = 0\n",
    "    true_positives = 0 \n",
    "    positives = 0\n",
    "    pre_positives = 0\n",
    "    model.eval()\n",
    "    with torch.no_grad():\n",
    "        for i,(sentences,words_per_sentence,labels) in enumerate(val_data):\n",
    "            sentences = sentences.to(device)\n",
    "            words_per_sentence = words_per_sentence.to(device)\n",
    "            labels = labels.to(device)\n",
    "            pre = model(sentences,words_per_sentence)\n",
    "\n",
    "            cnt,total,true_positive,positive,pre_positive = acc_metrics(pre.squeeze(),labels.float(),threshold=0.5)\n",
    "            cnts+=cnt\n",
    "            totals+= total\n",
    "            true_positives+=true_positive\n",
    "            positives+=positive\n",
    "            pre_positives+=pre_positive\n",
    "            loss = criterion(pre.squeeze(),labels.float())\n",
    "            Loss+=loss.item()\n",
    "        \n",
    "        print(\"Validation epoch: {} Loss: {:.5f} ACC: {:.2%} Recall: {:.2%} Precision: {:.2%}\".format(epoch,Loss,cnts/totals,\\\n",
    "                                                                                      true_positives/positives,\\\n",
    "                                                                                        true_positives/pre_positives))\n",
    "    return Loss"
   ]
  },
  {
   "cell_type": "code",
   "execution_count": 150,
   "metadata": {
    "scrolled": true
   },
   "outputs": [
    {
     "name": "stdout",
     "output_type": "stream",
     "text": [
      "Training epoch: 0 Loss: 0.00069 ACC: 100.00% Recall: 100.00% Precision: 100.00%\n",
      "Validation epoch: 0 Loss: 5.32340 ACC: 48.00% Recall: 60.64% Precision: 45.97%\n",
      "best model, Val loss:5.32340\n",
      "Training epoch: 1 Loss: 0.00042 ACC: 100.00% Recall: 100.00% Precision: 100.00%\n",
      "Validation epoch: 1 Loss: 5.32926 ACC: 48.00% Recall: 60.64% Precision: 45.97%\n",
      "Training epoch: 2 Loss: 0.00029 ACC: 100.00% Recall: 100.00% Precision: 100.00%\n",
      "Validation epoch: 2 Loss: 5.33066 ACC: 48.00% Recall: 60.64% Precision: 45.97%\n",
      "Training epoch: 3 Loss: 0.00097 ACC: 100.00% Recall: 100.00% Precision: 100.00%\n",
      "Validation epoch: 3 Loss: 5.33188 ACC: 48.00% Recall: 60.64% Precision: 45.97%\n",
      "Training epoch: 4 Loss: 0.00042 ACC: 100.00% Recall: 100.00% Precision: 100.00%\n",
      "Validation epoch: 4 Loss: 5.33219 ACC: 48.00% Recall: 60.64% Precision: 45.97%\n",
      "Training epoch: 5 Loss: 0.00062 ACC: 100.00% Recall: 100.00% Precision: 100.00%\n",
      "Validation epoch: 5 Loss: 5.33233 ACC: 48.00% Recall: 60.64% Precision: 45.97%\n",
      "Training epoch: 6 Loss: 0.00047 ACC: 100.00% Recall: 100.00% Precision: 100.00%\n",
      "Validation epoch: 6 Loss: 5.33237 ACC: 48.00% Recall: 60.64% Precision: 45.97%\n",
      "Training epoch: 7 Loss: 0.00152 ACC: 100.00% Recall: 100.00% Precision: 100.00%\n",
      "Validation epoch: 7 Loss: 5.33242 ACC: 48.00% Recall: 60.64% Precision: 45.97%\n",
      "Training epoch: 8 Loss: 0.00138 ACC: 100.00% Recall: 100.00% Precision: 100.00%\n",
      "Validation epoch: 8 Loss: 5.33242 ACC: 48.00% Recall: 60.64% Precision: 45.97%\n",
      "Training epoch: 9 Loss: 0.00028 ACC: 100.00% Recall: 100.00% Precision: 100.00%\n",
      "Validation epoch: 9 Loss: 5.33241 ACC: 48.00% Recall: 60.64% Precision: 45.97%\n",
      "Training epoch: 10 Loss: 0.00033 ACC: 100.00% Recall: 100.00% Precision: 100.00%\n",
      "Validation epoch: 10 Loss: 5.33242 ACC: 48.00% Recall: 60.64% Precision: 45.97%\n",
      "Training epoch: 11 Loss: 0.00027 ACC: 100.00% Recall: 100.00% Precision: 100.00%\n",
      "Validation epoch: 11 Loss: 5.33242 ACC: 48.00% Recall: 60.64% Precision: 45.97%\n",
      "Training epoch: 12 Loss: 0.00068 ACC: 100.00% Recall: 100.00% Precision: 100.00%\n",
      "Validation epoch: 12 Loss: 5.33242 ACC: 48.00% Recall: 60.64% Precision: 45.97%\n",
      "Training epoch: 13 Loss: 0.00080 ACC: 100.00% Recall: 100.00% Precision: 100.00%\n",
      "Validation epoch: 13 Loss: 5.33242 ACC: 48.00% Recall: 60.64% Precision: 45.97%\n",
      "Training epoch: 14 Loss: 0.00040 ACC: 100.00% Recall: 100.00% Precision: 100.00%\n",
      "Validation epoch: 14 Loss: 5.33242 ACC: 48.00% Recall: 60.64% Precision: 45.97%\n",
      "Training epoch: 15 Loss: 0.00047 ACC: 100.00% Recall: 100.00% Precision: 100.00%\n",
      "Validation epoch: 15 Loss: 5.33242 ACC: 48.00% Recall: 60.64% Precision: 45.97%\n",
      "Training epoch: 16 Loss: 0.00254 ACC: 100.00% Recall: 100.00% Precision: 100.00%\n",
      "Validation epoch: 16 Loss: 5.33242 ACC: 48.00% Recall: 60.64% Precision: 45.97%\n",
      "Training epoch: 17 Loss: 0.00044 ACC: 100.00% Recall: 100.00% Precision: 100.00%\n",
      "Validation epoch: 17 Loss: 5.33242 ACC: 48.00% Recall: 60.64% Precision: 45.97%\n",
      "Training epoch: 18 Loss: 0.00041 ACC: 100.00% Recall: 100.00% Precision: 100.00%\n",
      "Validation epoch: 18 Loss: 5.33242 ACC: 48.00% Recall: 60.64% Precision: 45.97%\n",
      "Training epoch: 19 Loss: 0.00138 ACC: 100.00% Recall: 100.00% Precision: 100.00%\n",
      "Validation epoch: 19 Loss: 5.33242 ACC: 48.00% Recall: 60.64% Precision: 45.97%\n",
      "Training epoch: 20 Loss: 0.00049 ACC: 100.00% Recall: 100.00% Precision: 100.00%\n",
      "Validation epoch: 20 Loss: 5.33242 ACC: 48.00% Recall: 60.64% Precision: 45.97%\n",
      "Training epoch: 21 Loss: 0.00037 ACC: 100.00% Recall: 100.00% Precision: 100.00%\n",
      "Validation epoch: 21 Loss: 5.33242 ACC: 48.00% Recall: 60.64% Precision: 45.97%\n",
      "Training epoch: 22 Loss: 0.00037 ACC: 100.00% Recall: 100.00% Precision: 100.00%\n",
      "Validation epoch: 22 Loss: 5.33242 ACC: 48.00% Recall: 60.64% Precision: 45.97%\n",
      "Training epoch: 23 Loss: 0.00035 ACC: 100.00% Recall: 100.00% Precision: 100.00%\n",
      "Validation epoch: 23 Loss: 5.33242 ACC: 48.00% Recall: 60.64% Precision: 45.97%\n",
      "Training epoch: 24 Loss: 0.00052 ACC: 100.00% Recall: 100.00% Precision: 100.00%\n",
      "Validation epoch: 24 Loss: 5.33242 ACC: 48.00% Recall: 60.64% Precision: 45.97%\n",
      "Training epoch: 25 Loss: 0.00177 ACC: 100.00% Recall: 100.00% Precision: 100.00%\n",
      "Validation epoch: 25 Loss: 5.33242 ACC: 48.00% Recall: 60.64% Precision: 45.97%\n",
      "Training epoch: 26 Loss: 0.00071 ACC: 100.00% Recall: 100.00% Precision: 100.00%\n",
      "Validation epoch: 26 Loss: 5.33242 ACC: 48.00% Recall: 60.64% Precision: 45.97%\n",
      "Training epoch: 27 Loss: 0.00179 ACC: 100.00% Recall: 100.00% Precision: 100.00%\n",
      "Validation epoch: 27 Loss: 5.33242 ACC: 48.00% Recall: 60.64% Precision: 45.97%\n",
      "Training epoch: 28 Loss: 0.00300 ACC: 100.00% Recall: 100.00% Precision: 100.00%\n",
      "Validation epoch: 28 Loss: 5.33242 ACC: 48.00% Recall: 60.64% Precision: 45.97%\n",
      "Training epoch: 29 Loss: 0.00039 ACC: 100.00% Recall: 100.00% Precision: 100.00%\n",
      "Validation epoch: 29 Loss: 5.33242 ACC: 48.00% Recall: 60.64% Precision: 45.97%\n",
      "Training epoch: 30 Loss: 0.00041 ACC: 100.00% Recall: 100.00% Precision: 100.00%\n",
      "Validation epoch: 30 Loss: 5.33242 ACC: 48.00% Recall: 60.64% Precision: 45.97%\n",
      "Training epoch: 31 Loss: 0.00573 ACC: 100.00% Recall: 100.00% Precision: 100.00%\n",
      "Validation epoch: 31 Loss: 5.33242 ACC: 48.00% Recall: 60.64% Precision: 45.97%\n",
      "Training epoch: 32 Loss: 0.00036 ACC: 100.00% Recall: 100.00% Precision: 100.00%\n",
      "Validation epoch: 32 Loss: 5.33242 ACC: 48.00% Recall: 60.64% Precision: 45.97%\n",
      "Training epoch: 33 Loss: 0.00022 ACC: 100.00% Recall: 100.00% Precision: 100.00%\n",
      "Validation epoch: 33 Loss: 5.33242 ACC: 48.00% Recall: 60.64% Precision: 45.97%\n",
      "Training epoch: 34 Loss: 0.00050 ACC: 100.00% Recall: 100.00% Precision: 100.00%\n",
      "Validation epoch: 34 Loss: 5.33242 ACC: 48.00% Recall: 60.64% Precision: 45.97%\n",
      "Training epoch: 35 Loss: 0.00149 ACC: 100.00% Recall: 100.00% Precision: 100.00%\n",
      "Validation epoch: 35 Loss: 5.33242 ACC: 48.00% Recall: 60.64% Precision: 45.97%\n",
      "Training epoch: 36 Loss: 0.00045 ACC: 100.00% Recall: 100.00% Precision: 100.00%\n",
      "Validation epoch: 36 Loss: 5.33242 ACC: 48.00% Recall: 60.64% Precision: 45.97%\n",
      "Training epoch: 37 Loss: 0.00047 ACC: 100.00% Recall: 100.00% Precision: 100.00%\n",
      "Validation epoch: 37 Loss: 5.33242 ACC: 48.00% Recall: 60.64% Precision: 45.97%\n",
      "Training epoch: 38 Loss: 0.00028 ACC: 100.00% Recall: 100.00% Precision: 100.00%\n",
      "Validation epoch: 38 Loss: 5.33242 ACC: 48.00% Recall: 60.64% Precision: 45.97%\n",
      "Training epoch: 39 Loss: 0.00077 ACC: 100.00% Recall: 100.00% Precision: 100.00%\n",
      "Validation epoch: 39 Loss: 5.33242 ACC: 48.00% Recall: 60.64% Precision: 45.97%\n",
      "Training epoch: 40 Loss: 0.00108 ACC: 100.00% Recall: 100.00% Precision: 100.00%\n",
      "Validation epoch: 40 Loss: 5.33242 ACC: 48.00% Recall: 60.64% Precision: 45.97%\n",
      "Training epoch: 41 Loss: 0.00054 ACC: 100.00% Recall: 100.00% Precision: 100.00%\n",
      "Validation epoch: 41 Loss: 5.33242 ACC: 48.00% Recall: 60.64% Precision: 45.97%\n",
      "Training epoch: 42 Loss: 0.00056 ACC: 100.00% Recall: 100.00% Precision: 100.00%\n",
      "Validation epoch: 42 Loss: 5.33242 ACC: 48.00% Recall: 60.64% Precision: 45.97%\n",
      "Training epoch: 43 Loss: 0.00015 ACC: 100.00% Recall: 100.00% Precision: 100.00%\n",
      "Validation epoch: 43 Loss: 5.33242 ACC: 48.00% Recall: 60.64% Precision: 45.97%\n",
      "Training epoch: 44 Loss: 0.00024 ACC: 100.00% Recall: 100.00% Precision: 100.00%\n",
      "Validation epoch: 44 Loss: 5.33242 ACC: 48.00% Recall: 60.64% Precision: 45.97%\n",
      "Training epoch: 45 Loss: 0.00069 ACC: 100.00% Recall: 100.00% Precision: 100.00%\n",
      "Validation epoch: 45 Loss: 5.33242 ACC: 48.00% Recall: 60.64% Precision: 45.97%\n",
      "Training epoch: 46 Loss: 0.00037 ACC: 100.00% Recall: 100.00% Precision: 100.00%\n",
      "Validation epoch: 46 Loss: 5.33242 ACC: 48.00% Recall: 60.64% Precision: 45.97%\n",
      "Training epoch: 47 Loss: 0.00022 ACC: 100.00% Recall: 100.00% Precision: 100.00%\n",
      "Validation epoch: 47 Loss: 5.33242 ACC: 48.00% Recall: 60.64% Precision: 45.97%\n",
      "Training epoch: 48 Loss: 0.00069 ACC: 100.00% Recall: 100.00% Precision: 100.00%\n",
      "Validation epoch: 48 Loss: 5.33242 ACC: 48.00% Recall: 60.64% Precision: 45.97%\n",
      "Training epoch: 49 Loss: 0.00163 ACC: 100.00% Recall: 100.00% Precision: 100.00%\n",
      "Validation epoch: 49 Loss: 5.33242 ACC: 48.00% Recall: 60.64% Precision: 45.97%\n",
      "Training epoch: 50 Loss: 0.00097 ACC: 100.00% Recall: 100.00% Precision: 100.00%\n",
      "Validation epoch: 50 Loss: 5.33242 ACC: 48.00% Recall: 60.64% Precision: 45.97%\n",
      "Training epoch: 51 Loss: 0.00029 ACC: 100.00% Recall: 100.00% Precision: 100.00%\n",
      "Validation epoch: 51 Loss: 5.33242 ACC: 48.00% Recall: 60.64% Precision: 45.97%\n",
      "Training epoch: 52 Loss: 0.00063 ACC: 100.00% Recall: 100.00% Precision: 100.00%\n",
      "Validation epoch: 52 Loss: 5.33242 ACC: 48.00% Recall: 60.64% Precision: 45.97%\n"
     ]
    },
    {
     "name": "stdout",
     "output_type": "stream",
     "text": [
      "Training epoch: 53 Loss: 0.00052 ACC: 100.00% Recall: 100.00% Precision: 100.00%\n",
      "Validation epoch: 53 Loss: 5.33242 ACC: 48.00% Recall: 60.64% Precision: 45.97%\n",
      "Training epoch: 54 Loss: 0.00047 ACC: 100.00% Recall: 100.00% Precision: 100.00%\n",
      "Validation epoch: 54 Loss: 5.33242 ACC: 48.00% Recall: 60.64% Precision: 45.97%\n",
      "Training epoch: 55 Loss: 0.00151 ACC: 100.00% Recall: 100.00% Precision: 100.00%\n",
      "Validation epoch: 55 Loss: 5.33242 ACC: 48.00% Recall: 60.64% Precision: 45.97%\n",
      "Training epoch: 56 Loss: 0.00090 ACC: 100.00% Recall: 100.00% Precision: 100.00%\n",
      "Validation epoch: 56 Loss: 5.33242 ACC: 48.00% Recall: 60.64% Precision: 45.97%\n",
      "Training epoch: 57 Loss: 0.00092 ACC: 100.00% Recall: 100.00% Precision: 100.00%\n",
      "Validation epoch: 57 Loss: 5.33242 ACC: 48.00% Recall: 60.64% Precision: 45.97%\n",
      "Training epoch: 58 Loss: 0.00023 ACC: 100.00% Recall: 100.00% Precision: 100.00%\n",
      "Validation epoch: 58 Loss: 5.33242 ACC: 48.00% Recall: 60.64% Precision: 45.97%\n",
      "Training epoch: 59 Loss: 0.00066 ACC: 100.00% Recall: 100.00% Precision: 100.00%\n",
      "Validation epoch: 59 Loss: 5.33242 ACC: 48.00% Recall: 60.64% Precision: 45.97%\n",
      "Training epoch: 60 Loss: 0.00024 ACC: 100.00% Recall: 100.00% Precision: 100.00%\n",
      "Validation epoch: 60 Loss: 5.33242 ACC: 48.00% Recall: 60.64% Precision: 45.97%\n",
      "Training epoch: 61 Loss: 0.00099 ACC: 100.00% Recall: 100.00% Precision: 100.00%\n",
      "Validation epoch: 61 Loss: 5.33242 ACC: 48.00% Recall: 60.64% Precision: 45.97%\n",
      "Training epoch: 62 Loss: 0.00021 ACC: 100.00% Recall: 100.00% Precision: 100.00%\n",
      "Validation epoch: 62 Loss: 5.33242 ACC: 48.00% Recall: 60.64% Precision: 45.97%\n",
      "Training epoch: 63 Loss: 0.00161 ACC: 100.00% Recall: 100.00% Precision: 100.00%\n",
      "Validation epoch: 63 Loss: 5.33242 ACC: 48.00% Recall: 60.64% Precision: 45.97%\n",
      "Training epoch: 64 Loss: 0.00093 ACC: 100.00% Recall: 100.00% Precision: 100.00%\n",
      "Validation epoch: 64 Loss: 5.33242 ACC: 48.00% Recall: 60.64% Precision: 45.97%\n",
      "Training epoch: 65 Loss: 0.00053 ACC: 100.00% Recall: 100.00% Precision: 100.00%\n",
      "Validation epoch: 65 Loss: 5.33242 ACC: 48.00% Recall: 60.64% Precision: 45.97%\n",
      "Training epoch: 66 Loss: 0.00064 ACC: 100.00% Recall: 100.00% Precision: 100.00%\n",
      "Validation epoch: 66 Loss: 5.33242 ACC: 48.00% Recall: 60.64% Precision: 45.97%\n",
      "Training epoch: 67 Loss: 0.00046 ACC: 100.00% Recall: 100.00% Precision: 100.00%\n",
      "Validation epoch: 67 Loss: 5.33242 ACC: 48.00% Recall: 60.64% Precision: 45.97%\n",
      "Training epoch: 68 Loss: 0.00091 ACC: 100.00% Recall: 100.00% Precision: 100.00%\n",
      "Validation epoch: 68 Loss: 5.33242 ACC: 48.00% Recall: 60.64% Precision: 45.97%\n",
      "Training epoch: 69 Loss: 0.00018 ACC: 100.00% Recall: 100.00% Precision: 100.00%\n",
      "Validation epoch: 69 Loss: 5.33242 ACC: 48.00% Recall: 60.64% Precision: 45.97%\n",
      "Training epoch: 70 Loss: 0.00034 ACC: 100.00% Recall: 100.00% Precision: 100.00%\n",
      "Validation epoch: 70 Loss: 5.33242 ACC: 48.00% Recall: 60.64% Precision: 45.97%\n",
      "Training epoch: 71 Loss: 0.00025 ACC: 100.00% Recall: 100.00% Precision: 100.00%\n",
      "Validation epoch: 71 Loss: 5.33242 ACC: 48.00% Recall: 60.64% Precision: 45.97%\n",
      "Training epoch: 72 Loss: 0.00055 ACC: 100.00% Recall: 100.00% Precision: 100.00%\n",
      "Validation epoch: 72 Loss: 5.33242 ACC: 48.00% Recall: 60.64% Precision: 45.97%\n",
      "Training epoch: 73 Loss: 0.00032 ACC: 100.00% Recall: 100.00% Precision: 100.00%\n",
      "Validation epoch: 73 Loss: 5.33242 ACC: 48.00% Recall: 60.64% Precision: 45.97%\n",
      "Training epoch: 74 Loss: 0.00069 ACC: 100.00% Recall: 100.00% Precision: 100.00%\n",
      "Validation epoch: 74 Loss: 5.33242 ACC: 48.00% Recall: 60.64% Precision: 45.97%\n",
      "Training epoch: 75 Loss: 0.00052 ACC: 100.00% Recall: 100.00% Precision: 100.00%\n",
      "Validation epoch: 75 Loss: 5.33242 ACC: 48.00% Recall: 60.64% Precision: 45.97%\n",
      "Training epoch: 76 Loss: 0.00038 ACC: 100.00% Recall: 100.00% Precision: 100.00%\n",
      "Validation epoch: 76 Loss: 5.33242 ACC: 48.00% Recall: 60.64% Precision: 45.97%\n",
      "Training epoch: 77 Loss: 0.00067 ACC: 100.00% Recall: 100.00% Precision: 100.00%\n",
      "Validation epoch: 77 Loss: 5.33242 ACC: 48.00% Recall: 60.64% Precision: 45.97%\n",
      "Training epoch: 78 Loss: 0.00093 ACC: 100.00% Recall: 100.00% Precision: 100.00%\n",
      "Validation epoch: 78 Loss: 5.33242 ACC: 48.00% Recall: 60.64% Precision: 45.97%\n",
      "Training epoch: 79 Loss: 0.00059 ACC: 100.00% Recall: 100.00% Precision: 100.00%\n",
      "Validation epoch: 79 Loss: 5.33242 ACC: 48.00% Recall: 60.64% Precision: 45.97%\n",
      "Training epoch: 80 Loss: 0.00090 ACC: 100.00% Recall: 100.00% Precision: 100.00%\n",
      "Validation epoch: 80 Loss: 5.33242 ACC: 48.00% Recall: 60.64% Precision: 45.97%\n",
      "Training epoch: 81 Loss: 0.00103 ACC: 100.00% Recall: 100.00% Precision: 100.00%\n",
      "Validation epoch: 81 Loss: 5.33242 ACC: 48.00% Recall: 60.64% Precision: 45.97%\n",
      "Training epoch: 82 Loss: 0.00110 ACC: 100.00% Recall: 100.00% Precision: 100.00%\n",
      "Validation epoch: 82 Loss: 5.33242 ACC: 48.00% Recall: 60.64% Precision: 45.97%\n",
      "Training epoch: 83 Loss: 0.00382 ACC: 100.00% Recall: 100.00% Precision: 100.00%\n",
      "Validation epoch: 83 Loss: 5.33242 ACC: 48.00% Recall: 60.64% Precision: 45.97%\n",
      "Training epoch: 84 Loss: 0.00040 ACC: 100.00% Recall: 100.00% Precision: 100.00%\n",
      "Validation epoch: 84 Loss: 5.33242 ACC: 48.00% Recall: 60.64% Precision: 45.97%\n",
      "Training epoch: 85 Loss: 0.00027 ACC: 100.00% Recall: 100.00% Precision: 100.00%\n",
      "Validation epoch: 85 Loss: 5.33242 ACC: 48.00% Recall: 60.64% Precision: 45.97%\n",
      "Training epoch: 86 Loss: 0.00282 ACC: 100.00% Recall: 100.00% Precision: 100.00%\n",
      "Validation epoch: 86 Loss: 5.33242 ACC: 48.00% Recall: 60.64% Precision: 45.97%\n",
      "Training epoch: 87 Loss: 0.00067 ACC: 100.00% Recall: 100.00% Precision: 100.00%\n",
      "Validation epoch: 87 Loss: 5.33242 ACC: 48.00% Recall: 60.64% Precision: 45.97%\n",
      "Training epoch: 88 Loss: 0.00156 ACC: 100.00% Recall: 100.00% Precision: 100.00%\n",
      "Validation epoch: 88 Loss: 5.33242 ACC: 48.00% Recall: 60.64% Precision: 45.97%\n",
      "Training epoch: 89 Loss: 0.00392 ACC: 100.00% Recall: 100.00% Precision: 100.00%\n",
      "Validation epoch: 89 Loss: 5.33242 ACC: 48.00% Recall: 60.64% Precision: 45.97%\n",
      "Training epoch: 90 Loss: 0.00041 ACC: 100.00% Recall: 100.00% Precision: 100.00%\n",
      "Validation epoch: 90 Loss: 5.33242 ACC: 48.00% Recall: 60.64% Precision: 45.97%\n",
      "Training epoch: 91 Loss: 0.00075 ACC: 100.00% Recall: 100.00% Precision: 100.00%\n",
      "Validation epoch: 91 Loss: 5.33242 ACC: 48.00% Recall: 60.64% Precision: 45.97%\n",
      "Training epoch: 92 Loss: 0.00156 ACC: 100.00% Recall: 100.00% Precision: 100.00%\n",
      "Validation epoch: 92 Loss: 5.33242 ACC: 48.00% Recall: 60.64% Precision: 45.97%\n",
      "Training epoch: 93 Loss: 0.00070 ACC: 100.00% Recall: 100.00% Precision: 100.00%\n",
      "Validation epoch: 93 Loss: 5.33242 ACC: 48.00% Recall: 60.64% Precision: 45.97%\n",
      "Training epoch: 94 Loss: 0.00172 ACC: 100.00% Recall: 100.00% Precision: 100.00%\n",
      "Validation epoch: 94 Loss: 5.33242 ACC: 48.00% Recall: 60.64% Precision: 45.97%\n",
      "Training epoch: 95 Loss: 0.00122 ACC: 100.00% Recall: 100.00% Precision: 100.00%\n",
      "Validation epoch: 95 Loss: 5.33242 ACC: 48.00% Recall: 60.64% Precision: 45.97%\n",
      "Training epoch: 96 Loss: 0.00027 ACC: 100.00% Recall: 100.00% Precision: 100.00%\n",
      "Validation epoch: 96 Loss: 5.33242 ACC: 48.00% Recall: 60.64% Precision: 45.97%\n",
      "Training epoch: 97 Loss: 0.00409 ACC: 100.00% Recall: 100.00% Precision: 100.00%\n",
      "Validation epoch: 97 Loss: 5.33242 ACC: 48.00% Recall: 60.64% Precision: 45.97%\n",
      "Training epoch: 98 Loss: 0.00073 ACC: 100.00% Recall: 100.00% Precision: 100.00%\n",
      "Validation epoch: 98 Loss: 5.33242 ACC: 48.00% Recall: 60.64% Precision: 45.97%\n",
      "Training epoch: 99 Loss: 0.00164 ACC: 100.00% Recall: 100.00% Precision: 100.00%\n",
      "Validation epoch: 99 Loss: 5.33242 ACC: 48.00% Recall: 60.64% Precision: 45.97%\n"
     ]
    }
   ],
   "source": [
    "val_losses = []\n",
    "for epoch in range(100):\n",
    "    Train(epoch,train_data,val_data)"
   ]
  },
  {
   "cell_type": "code",
   "execution_count": 134,
   "metadata": {},
   "outputs": [
    {
     "data": {
      "text/plain": [
       "Adam (\n",
       "Parameter Group 0\n",
       "    amsgrad: False\n",
       "    betas: (0.9, 0.999)\n",
       "    eps: 1e-08\n",
       "    initial_lr: 0.01\n",
       "    lr: 0.01\n",
       "    weight_decay: 0\n",
       ")"
      ]
     },
     "execution_count": 134,
     "metadata": {},
     "output_type": "execute_result"
    }
   ],
   "source": [
    "optimizer"
   ]
  },
  {
   "cell_type": "code",
   "execution_count": 139,
   "metadata": {},
   "outputs": [],
   "source": [
    "model.eval()\n",
    "pre = model(temp_sentences,temp_words).squeeze()\n",
    "pre = [1 if num>0.5 else 0 for num in pre]\n"
   ]
  },
  {
   "cell_type": "code",
   "execution_count": 141,
   "metadata": {},
   "outputs": [
    {
     "data": {
      "image/png": "[encoded data removed]",
      "text/plain": [
       "<Figure size 1440x216 with 1 Axes>"
      ]
     },
     "metadata": {
      "needs_background": "light"
     },
     "output_type": "display_data"
    }
   ],
   "source": [
    "plt.figure(figsize=(20, 3))\n",
    "plt.plot(range(100),temp_labels,label =\"True\")\n",
    "plt.plot(range(100),pre,label =\"pre\")\n",
    "plt.legend()\n",
    "plt.show()"
   ]
  },
  {
   "cell_type": "code",
   "execution_count": 82,
   "metadata": {},
   "outputs": [
    {
     "data": {
      "text/plain": [
       "100.0"
      ]
     },
     "execution_count": 82,
     "metadata": {},
     "output_type": "execute_result"
    }
   ],
   "source": [
    "10000*0.01"
   ]
  }
 ],
 "metadata": {
  "kernelspec": {
   "display_name": "Python 3",
   "language": "python",
   "name": "python3"
  },
  "language_info": {
   "codemirror_mode": {
    "name": "ipython",
    "version": 3
   },
   "file_extension": ".py",
   "mimetype": "text/x-python",
   "name": "python",
   "nbconvert_exporter": "python",
   "pygments_lexer": "ipython3",
   "version": "3.7.8"
  }
 },
 "nbformat": 4,
 "nbformat_minor": 4
}
